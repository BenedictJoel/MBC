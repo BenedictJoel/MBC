{
  "nbformat": 4,
  "nbformat_minor": 0,
  "metadata": {
    "colab": {
      "provenance": [],
      "gpuType": "T4"
    },
    "kernelspec": {
      "name": "python3",
      "display_name": "Python 3"
    },
    "language_info": {
      "name": "python"
    },
    "accelerator": "GPU"
  },
  "cells": [
    {
      "cell_type": "markdown",
      "source": [
        "**TUGAS MBC WEEK 4**\n",
        "\n",
        "- TOPIK : TRANSFORMER\n",
        "- NAMA : BENEDICT BRIAN JOEL PURBA\n",
        "- NIM : 103052300066\n",
        "- KODE : 2517"
      ],
      "metadata": {
        "id": "Ipdrzr7yoLQ_"
      }
    },
    {
      "cell_type": "markdown",
      "source": [
        "# BERT-BASE-UNCASED"
      ],
      "metadata": {
        "id": "mwZ1nG0Zl3V3"
      }
    },
    {
      "cell_type": "code",
      "execution_count": null,
      "metadata": {
        "id": "9VLsuKawcEe-"
      },
      "outputs": [],
      "source": [
        "import pandas as pd\n",
        "import numpy as np\n",
        "import matplotlib.pyplot as plt"
      ]
    },
    {
      "cell_type": "code",
      "source": [
        "!pip install -q transformers"
      ],
      "metadata": {
        "id": "k89rjBotdpp1"
      },
      "execution_count": null,
      "outputs": []
    },
    {
      "cell_type": "code",
      "source": [
        "# check for the GPU\n",
        "!nvidia-smi"
      ],
      "metadata": {
        "colab": {
          "base_uri": "https://localhost:8080/"
        },
        "id": "NlbIyVpodq_Y",
        "outputId": "5904d9ee-86c9-47ba-b7ab-474013985bf7"
      },
      "execution_count": null,
      "outputs": [
        {
          "output_type": "stream",
          "name": "stdout",
          "text": [
            "Fri Aug 29 01:35:09 2025       \n",
            "+-----------------------------------------------------------------------------------------+\n",
            "| NVIDIA-SMI 550.54.15              Driver Version: 550.54.15      CUDA Version: 12.4     |\n",
            "|-----------------------------------------+------------------------+----------------------+\n",
            "| GPU  Name                 Persistence-M | Bus-Id          Disp.A | Volatile Uncorr. ECC |\n",
            "| Fan  Temp   Perf          Pwr:Usage/Cap |           Memory-Usage | GPU-Util  Compute M. |\n",
            "|                                         |                        |               MIG M. |\n",
            "|=========================================+========================+======================|\n",
            "|   0  Tesla T4                       Off |   00000000:00:04.0 Off |                    0 |\n",
            "| N/A   61C    P8             13W /   70W |       0MiB /  15360MiB |      0%      Default |\n",
            "|                                         |                        |                  N/A |\n",
            "+-----------------------------------------+------------------------+----------------------+\n",
            "                                                                                         \n",
            "+-----------------------------------------------------------------------------------------+\n",
            "| Processes:                                                                              |\n",
            "|  GPU   GI   CI        PID   Type   Process name                              GPU Memory |\n",
            "|        ID   ID                                                               Usage      |\n",
            "|=========================================================================================|\n",
            "|  No running processes found                                                             |\n",
            "+-----------------------------------------------------------------------------------------+\n"
          ]
        }
      ]
    },
    {
      "cell_type": "code",
      "source": [
        "train_df = pd.read_csv('train.csv')\n",
        "test_df = pd.read_csv('test.csv')"
      ],
      "metadata": {
        "id": "FI_xKrdoduLG"
      },
      "execution_count": null,
      "outputs": []
    },
    {
      "cell_type": "code",
      "source": [
        "# check the size of the data\n",
        "print(\"Train data size \\n\", train_df.shape )\n",
        "print()\n",
        "print(\"Test data size \\n\", test_df.shape )"
      ],
      "metadata": {
        "colab": {
          "base_uri": "https://localhost:8080/"
        },
        "id": "LA2oABcodvzZ",
        "outputId": "5bd1562b-86f7-44af-e63a-689c7390ea11"
      },
      "execution_count": null,
      "outputs": [
        {
          "output_type": "stream",
          "name": "stdout",
          "text": [
            "Train data size \n",
            " (5083, 4)\n",
            "\n",
            "Test data size \n",
            " (1695, 3)\n"
          ]
        }
      ]
    },
    {
      "cell_type": "code",
      "source": [
        "train_df.head()"
      ],
      "metadata": {
        "colab": {
          "base_uri": "https://localhost:8080/",
          "height": 241
        },
        "id": "JmhV2NapdwzG",
        "outputId": "ad11ae8d-213a-4b49-edc7-3d81361f6def"
      },
      "execution_count": null,
      "outputs": [
        {
          "output_type": "execute_result",
          "data": {
            "text/plain": [
              "  id_comment       source                                               text  \\\n",
              "0    UID0000    Instagram  makin dewasa makin sadar bahwa taktik pemerint...   \n",
              "1    UID0001  X / Twitter  Membuktikan hal yg benar di pengadilan itu mmg...   \n",
              "2    UID0002    Instagram                      RIP keadilan di Indonesia 🥀🥀🥀   \n",
              "3    UID0003    Instagram  Dengan adanya pinjol, judol dan para rentenir ...   \n",
              "4    UID0004    Instagram                @revandioctareza negri Morat marit🥀   \n",
              "\n",
              "     label  \n",
              "0  SADNESS  \n",
              "1    ANGER  \n",
              "2  SADNESS  \n",
              "3    ANGER  \n",
              "4  SADNESS  "
            ],
            "text/html": [
              "\n",
              "  <div id=\"df-3b11c8e0-0ba1-4e93-8a20-550434c7a7ea\" class=\"colab-df-container\">\n",
              "    <div>\n",
              "<style scoped>\n",
              "    .dataframe tbody tr th:only-of-type {\n",
              "        vertical-align: middle;\n",
              "    }\n",
              "\n",
              "    .dataframe tbody tr th {\n",
              "        vertical-align: top;\n",
              "    }\n",
              "\n",
              "    .dataframe thead th {\n",
              "        text-align: right;\n",
              "    }\n",
              "</style>\n",
              "<table border=\"1\" class=\"dataframe\">\n",
              "  <thead>\n",
              "    <tr style=\"text-align: right;\">\n",
              "      <th></th>\n",
              "      <th>id_comment</th>\n",
              "      <th>source</th>\n",
              "      <th>text</th>\n",
              "      <th>label</th>\n",
              "    </tr>\n",
              "  </thead>\n",
              "  <tbody>\n",
              "    <tr>\n",
              "      <th>0</th>\n",
              "      <td>UID0000</td>\n",
              "      <td>Instagram</td>\n",
              "      <td>makin dewasa makin sadar bahwa taktik pemerint...</td>\n",
              "      <td>SADNESS</td>\n",
              "    </tr>\n",
              "    <tr>\n",
              "      <th>1</th>\n",
              "      <td>UID0001</td>\n",
              "      <td>X / Twitter</td>\n",
              "      <td>Membuktikan hal yg benar di pengadilan itu mmg...</td>\n",
              "      <td>ANGER</td>\n",
              "    </tr>\n",
              "    <tr>\n",
              "      <th>2</th>\n",
              "      <td>UID0002</td>\n",
              "      <td>Instagram</td>\n",
              "      <td>RIP keadilan di Indonesia 🥀🥀🥀</td>\n",
              "      <td>SADNESS</td>\n",
              "    </tr>\n",
              "    <tr>\n",
              "      <th>3</th>\n",
              "      <td>UID0003</td>\n",
              "      <td>Instagram</td>\n",
              "      <td>Dengan adanya pinjol, judol dan para rentenir ...</td>\n",
              "      <td>ANGER</td>\n",
              "    </tr>\n",
              "    <tr>\n",
              "      <th>4</th>\n",
              "      <td>UID0004</td>\n",
              "      <td>Instagram</td>\n",
              "      <td>@revandioctareza negri Morat marit🥀</td>\n",
              "      <td>SADNESS</td>\n",
              "    </tr>\n",
              "  </tbody>\n",
              "</table>\n",
              "</div>\n",
              "    <div class=\"colab-df-buttons\">\n",
              "\n",
              "  <div class=\"colab-df-container\">\n",
              "    <button class=\"colab-df-convert\" onclick=\"convertToInteractive('df-3b11c8e0-0ba1-4e93-8a20-550434c7a7ea')\"\n",
              "            title=\"Convert this dataframe to an interactive table.\"\n",
              "            style=\"display:none;\">\n",
              "\n",
              "  <svg xmlns=\"http://www.w3.org/2000/svg\" height=\"24px\" viewBox=\"0 -960 960 960\">\n",
              "    <path d=\"M120-120v-720h720v720H120Zm60-500h600v-160H180v160Zm220 220h160v-160H400v160Zm0 220h160v-160H400v160ZM180-400h160v-160H180v160Zm440 0h160v-160H620v160ZM180-180h160v-160H180v160Zm440 0h160v-160H620v160Z\"/>\n",
              "  </svg>\n",
              "    </button>\n",
              "\n",
              "  <style>\n",
              "    .colab-df-container {\n",
              "      display:flex;\n",
              "      gap: 12px;\n",
              "    }\n",
              "\n",
              "    .colab-df-convert {\n",
              "      background-color: #E8F0FE;\n",
              "      border: none;\n",
              "      border-radius: 50%;\n",
              "      cursor: pointer;\n",
              "      display: none;\n",
              "      fill: #1967D2;\n",
              "      height: 32px;\n",
              "      padding: 0 0 0 0;\n",
              "      width: 32px;\n",
              "    }\n",
              "\n",
              "    .colab-df-convert:hover {\n",
              "      background-color: #E2EBFA;\n",
              "      box-shadow: 0px 1px 2px rgba(60, 64, 67, 0.3), 0px 1px 3px 1px rgba(60, 64, 67, 0.15);\n",
              "      fill: #174EA6;\n",
              "    }\n",
              "\n",
              "    .colab-df-buttons div {\n",
              "      margin-bottom: 4px;\n",
              "    }\n",
              "\n",
              "    [theme=dark] .colab-df-convert {\n",
              "      background-color: #3B4455;\n",
              "      fill: #D2E3FC;\n",
              "    }\n",
              "\n",
              "    [theme=dark] .colab-df-convert:hover {\n",
              "      background-color: #434B5C;\n",
              "      box-shadow: 0px 1px 3px 1px rgba(0, 0, 0, 0.15);\n",
              "      filter: drop-shadow(0px 1px 2px rgba(0, 0, 0, 0.3));\n",
              "      fill: #FFFFFF;\n",
              "    }\n",
              "  </style>\n",
              "\n",
              "    <script>\n",
              "      const buttonEl =\n",
              "        document.querySelector('#df-3b11c8e0-0ba1-4e93-8a20-550434c7a7ea button.colab-df-convert');\n",
              "      buttonEl.style.display =\n",
              "        google.colab.kernel.accessAllowed ? 'block' : 'none';\n",
              "\n",
              "      async function convertToInteractive(key) {\n",
              "        const element = document.querySelector('#df-3b11c8e0-0ba1-4e93-8a20-550434c7a7ea');\n",
              "        const dataTable =\n",
              "          await google.colab.kernel.invokeFunction('convertToInteractive',\n",
              "                                                    [key], {});\n",
              "        if (!dataTable) return;\n",
              "\n",
              "        const docLinkHtml = 'Like what you see? Visit the ' +\n",
              "          '<a target=\"_blank\" href=https://colab.research.google.com/notebooks/data_table.ipynb>data table notebook</a>'\n",
              "          + ' to learn more about interactive tables.';\n",
              "        element.innerHTML = '';\n",
              "        dataTable['output_type'] = 'display_data';\n",
              "        await google.colab.output.renderOutput(dataTable, element);\n",
              "        const docLink = document.createElement('div');\n",
              "        docLink.innerHTML = docLinkHtml;\n",
              "        element.appendChild(docLink);\n",
              "      }\n",
              "    </script>\n",
              "  </div>\n",
              "\n",
              "\n",
              "    <div id=\"df-5cb9c1db-63fa-4ef4-82bd-b96220925806\">\n",
              "      <button class=\"colab-df-quickchart\" onclick=\"quickchart('df-5cb9c1db-63fa-4ef4-82bd-b96220925806')\"\n",
              "                title=\"Suggest charts\"\n",
              "                style=\"display:none;\">\n",
              "\n",
              "<svg xmlns=\"http://www.w3.org/2000/svg\" height=\"24px\"viewBox=\"0 0 24 24\"\n",
              "     width=\"24px\">\n",
              "    <g>\n",
              "        <path d=\"M19 3H5c-1.1 0-2 .9-2 2v14c0 1.1.9 2 2 2h14c1.1 0 2-.9 2-2V5c0-1.1-.9-2-2-2zM9 17H7v-7h2v7zm4 0h-2V7h2v10zm4 0h-2v-4h2v4z\"/>\n",
              "    </g>\n",
              "</svg>\n",
              "      </button>\n",
              "\n",
              "<style>\n",
              "  .colab-df-quickchart {\n",
              "      --bg-color: #E8F0FE;\n",
              "      --fill-color: #1967D2;\n",
              "      --hover-bg-color: #E2EBFA;\n",
              "      --hover-fill-color: #174EA6;\n",
              "      --disabled-fill-color: #AAA;\n",
              "      --disabled-bg-color: #DDD;\n",
              "  }\n",
              "\n",
              "  [theme=dark] .colab-df-quickchart {\n",
              "      --bg-color: #3B4455;\n",
              "      --fill-color: #D2E3FC;\n",
              "      --hover-bg-color: #434B5C;\n",
              "      --hover-fill-color: #FFFFFF;\n",
              "      --disabled-bg-color: #3B4455;\n",
              "      --disabled-fill-color: #666;\n",
              "  }\n",
              "\n",
              "  .colab-df-quickchart {\n",
              "    background-color: var(--bg-color);\n",
              "    border: none;\n",
              "    border-radius: 50%;\n",
              "    cursor: pointer;\n",
              "    display: none;\n",
              "    fill: var(--fill-color);\n",
              "    height: 32px;\n",
              "    padding: 0;\n",
              "    width: 32px;\n",
              "  }\n",
              "\n",
              "  .colab-df-quickchart:hover {\n",
              "    background-color: var(--hover-bg-color);\n",
              "    box-shadow: 0 1px 2px rgba(60, 64, 67, 0.3), 0 1px 3px 1px rgba(60, 64, 67, 0.15);\n",
              "    fill: var(--button-hover-fill-color);\n",
              "  }\n",
              "\n",
              "  .colab-df-quickchart-complete:disabled,\n",
              "  .colab-df-quickchart-complete:disabled:hover {\n",
              "    background-color: var(--disabled-bg-color);\n",
              "    fill: var(--disabled-fill-color);\n",
              "    box-shadow: none;\n",
              "  }\n",
              "\n",
              "  .colab-df-spinner {\n",
              "    border: 2px solid var(--fill-color);\n",
              "    border-color: transparent;\n",
              "    border-bottom-color: var(--fill-color);\n",
              "    animation:\n",
              "      spin 1s steps(1) infinite;\n",
              "  }\n",
              "\n",
              "  @keyframes spin {\n",
              "    0% {\n",
              "      border-color: transparent;\n",
              "      border-bottom-color: var(--fill-color);\n",
              "      border-left-color: var(--fill-color);\n",
              "    }\n",
              "    20% {\n",
              "      border-color: transparent;\n",
              "      border-left-color: var(--fill-color);\n",
              "      border-top-color: var(--fill-color);\n",
              "    }\n",
              "    30% {\n",
              "      border-color: transparent;\n",
              "      border-left-color: var(--fill-color);\n",
              "      border-top-color: var(--fill-color);\n",
              "      border-right-color: var(--fill-color);\n",
              "    }\n",
              "    40% {\n",
              "      border-color: transparent;\n",
              "      border-right-color: var(--fill-color);\n",
              "      border-top-color: var(--fill-color);\n",
              "    }\n",
              "    60% {\n",
              "      border-color: transparent;\n",
              "      border-right-color: var(--fill-color);\n",
              "    }\n",
              "    80% {\n",
              "      border-color: transparent;\n",
              "      border-right-color: var(--fill-color);\n",
              "      border-bottom-color: var(--fill-color);\n",
              "    }\n",
              "    90% {\n",
              "      border-color: transparent;\n",
              "      border-bottom-color: var(--fill-color);\n",
              "    }\n",
              "  }\n",
              "</style>\n",
              "\n",
              "      <script>\n",
              "        async function quickchart(key) {\n",
              "          const quickchartButtonEl =\n",
              "            document.querySelector('#' + key + ' button');\n",
              "          quickchartButtonEl.disabled = true;  // To prevent multiple clicks.\n",
              "          quickchartButtonEl.classList.add('colab-df-spinner');\n",
              "          try {\n",
              "            const charts = await google.colab.kernel.invokeFunction(\n",
              "                'suggestCharts', [key], {});\n",
              "          } catch (error) {\n",
              "            console.error('Error during call to suggestCharts:', error);\n",
              "          }\n",
              "          quickchartButtonEl.classList.remove('colab-df-spinner');\n",
              "          quickchartButtonEl.classList.add('colab-df-quickchart-complete');\n",
              "        }\n",
              "        (() => {\n",
              "          let quickchartButtonEl =\n",
              "            document.querySelector('#df-5cb9c1db-63fa-4ef4-82bd-b96220925806 button');\n",
              "          quickchartButtonEl.style.display =\n",
              "            google.colab.kernel.accessAllowed ? 'block' : 'none';\n",
              "        })();\n",
              "      </script>\n",
              "    </div>\n",
              "\n",
              "    </div>\n",
              "  </div>\n"
            ],
            "application/vnd.google.colaboratory.intrinsic+json": {
              "type": "dataframe",
              "variable_name": "train_df",
              "summary": "{\n  \"name\": \"train_df\",\n  \"rows\": 5083,\n  \"fields\": [\n    {\n      \"column\": \"id_comment\",\n      \"properties\": {\n        \"dtype\": \"string\",\n        \"num_unique_values\": 5083,\n        \"samples\": [\n          \"UID2700\",\n          \"UID2588\",\n          \"UID2997\"\n        ],\n        \"semantic_type\": \"\",\n        \"description\": \"\"\n      }\n    },\n    {\n      \"column\": \"source\",\n      \"properties\": {\n        \"dtype\": \"category\",\n        \"num_unique_values\": 2,\n        \"samples\": [\n          \"X / Twitter\",\n          \"Instagram\"\n        ],\n        \"semantic_type\": \"\",\n        \"description\": \"\"\n      }\n    },\n    {\n      \"column\": \"text\",\n      \"properties\": {\n        \"dtype\": \"string\",\n        \"num_unique_values\": 5083,\n        \"samples\": [\n          \"Tapi masalah impor gula berdasar persetujuan presiden. Dalam sidang terakhir, hakim tdk mampu menunjukkan bukti bahwa terdapat kerugian negara seperti yang dituduhkan. Bagaimana menurutmu,  @grok ? Adakah menteri2 dalam kabinet Jokowi yg lebih pantas dipidana daripada tom Lembong?\",\n          \"Semangatt yah pak tom, kuat yah buat anak istri,  semoga pembalasan Tuhan segera tiba buat mereka yg mendzolimi bapa \\ud83d\\ude07\\ud83d\\ude07\\ud83d\\ude07\"\n        ],\n        \"semantic_type\": \"\",\n        \"description\": \"\"\n      }\n    },\n    {\n      \"column\": \"label\",\n      \"properties\": {\n        \"dtype\": \"category\",\n        \"num_unique_values\": 5,\n        \"samples\": [\n          \"ANGER\",\n          \"DISAPPOINTMENT\"\n        ],\n        \"semantic_type\": \"\",\n        \"description\": \"\"\n      }\n    }\n  ]\n}"
            }
          },
          "metadata": {},
          "execution_count": 6
        }
      ]
    },
    {
      "cell_type": "code",
      "source": [
        "train_df.duplicated().sum()"
      ],
      "metadata": {
        "colab": {
          "base_uri": "https://localhost:8080/"
        },
        "id": "dNui6PvVdya7",
        "outputId": "fc35e11b-92b5-4907-88fe-d65e7e3d937a"
      },
      "execution_count": null,
      "outputs": [
        {
          "output_type": "execute_result",
          "data": {
            "text/plain": [
              "np.int64(0)"
            ]
          },
          "metadata": {},
          "execution_count": 7
        }
      ]
    },
    {
      "cell_type": "code",
      "source": [
        "# checking the target distribution\n",
        "train_df.label.value_counts().plot(kind = 'bar')"
      ],
      "metadata": {
        "colab": {
          "base_uri": "https://localhost:8080/",
          "height": 576
        },
        "id": "IU9qsKr0dzbt",
        "outputId": "05aa23d6-8edc-4382-c51a-b6a20e2905f8"
      },
      "execution_count": null,
      "outputs": [
        {
          "output_type": "execute_result",
          "data": {
            "text/plain": [
              "<Axes: xlabel='label'>"
            ]
          },
          "metadata": {},
          "execution_count": 8
        },
        {
          "output_type": "display_data",
          "data": {
            "text/plain": [
              "<Figure size 640x480 with 1 Axes>"
            ],
            "image/png": "[encoded data removed]"
          },
          "metadata": {}
        }
      ]
    },
    {
      "cell_type": "code",
      "source": [
        "for i in range(5):\n",
        "  print(train_df[train_df.label=='SADNESS']['text'].iloc[i])"
      ],
      "metadata": {
        "colab": {
          "base_uri": "https://localhost:8080/"
        },
        "id": "WItrw93Ud0dz",
        "outputId": "16c9aca2-0d80-41fb-be69-3ed1d90da2fb"
      },
      "execution_count": null,
      "outputs": [
        {
          "output_type": "stream",
          "name": "stdout",
          "text": [
            "makin dewasa makin sadar bahwa taktik pemerintah semengerikan itu😢🥀\n",
            "RIP keadilan di Indonesia 🥀🥀🥀\n",
            "@revandioctareza negri Morat marit🥀\n",
            "Udah baek2 di jepang ya bang, gak usah balik lagi kesini, udah gak bisa ditolong lagi ini negara\n",
            "Negara porak poranda, masih pantaskan kita haha hi hi merayakan kemerdekaan yg mana tdk Ada ruang merdeka bagi kami rakyat Indonesia, kami di jajah secara ekonomi,hukum, social, SDA, semua di jajah oleh pembantu2 rakyat nya sendiri belum lg yg Dari pihak luar yg dg leluasa mendapat ijin akses utk menjajah, miris\n"
          ]
        }
      ]
    },
    {
      "cell_type": "code",
      "source": [
        "textlen = train_df['text'].apply(lambda x: len(x.split()))"
      ],
      "metadata": {
        "id": "IMzPjfU9d1q5"
      },
      "execution_count": null,
      "outputs": []
    },
    {
      "cell_type": "code",
      "source": [
        "import seaborn as sns\n",
        "plt.figure(figsize=(8,5))\n",
        "plt.hist(textlen, edgecolor = \"black\");"
      ],
      "metadata": {
        "colab": {
          "base_uri": "https://localhost:8080/",
          "height": 410
        },
        "id": "joZea8SOd7Rm",
        "outputId": "1f179544-ccc1-4b8d-9ffd-ea047dc20b4c"
      },
      "execution_count": null,
      "outputs": [
        {
          "output_type": "display_data",
          "data": {
            "text/plain": [
              "<Figure size 800x500 with 1 Axes>"
            ],
            "image/png": "[encoded data removed]"
          },
          "metadata": {}
        }
      ]
    },
    {
      "cell_type": "code",
      "source": [
        "SEQ_LEN = 100"
      ],
      "metadata": {
        "id": "g9kNagvnd8wW"
      },
      "execution_count": null,
      "outputs": []
    },
    {
      "cell_type": "code",
      "source": [
        "from transformers import BertTokenizer\n",
        "from transformers import AutoTokenizer\n",
        "import tensorflow as tf"
      ],
      "metadata": {
        "id": "VdaCKzRtd_rt"
      },
      "execution_count": null,
      "outputs": []
    },
    {
      "cell_type": "code",
      "source": [
        "from transformers import BertTokenizer\n",
        "\n",
        "# Ini akan mengunduh semua file ke cache lokal\n",
        "tokenizer = BertTokenizer.from_pretrained('bert-base-uncased', do_lower_case=True)"
      ],
      "metadata": {
        "id": "E5-21CrReA89"
      },
      "execution_count": null,
      "outputs": []
    },
    {
      "cell_type": "code",
      "source": [
        "!ls -R /root/.cache/huggingface/hub/"
      ],
      "metadata": {
        "colab": {
          "base_uri": "https://localhost:8080/"
        },
        "id": "PLRAW84OeG1U",
        "outputId": "89db6dbe-2c2f-43ad-b5be-249ac020b3b4"
      },
      "execution_count": null,
      "outputs": [
        {
          "output_type": "stream",
          "name": "stdout",
          "text": [
            "ls: cannot access '/root/.cache/huggingface/hub/': No such file or directory\n"
          ]
        }
      ]
    },
    {
      "cell_type": "code",
      "source": [
        "from transformers import BertTokenizer\n",
        "import os\n",
        "\n",
        "# Ganti 'path/ke/folder/model' dengan lokasi folder di komputer Anda\n",
        "local_model_path = \"bert-base-uncased\"\n",
        "\n",
        "if os.path.isdir(local_model_path):\n",
        "    tokenizer = BertTokenizer.from_pretrained(local_model_path, do_lower_case=True)\n",
        "else:\n",
        "    print(f\"Error: Folder '{local_model_path}' tidak ditemukan.\")"
      ],
      "metadata": {
        "id": "bo8c0f4JeM-5"
      },
      "execution_count": null,
      "outputs": []
    },
    {
      "cell_type": "code",
      "source": [
        "# download the tokenizer\n",
        "task = \"sentiment\"\n",
        "tokenizer = BertTokenizer.from_pretrained('bert-base-uncased', do_lower_case=True)"
      ],
      "metadata": {
        "id": "7vGyIK_keOtg"
      },
      "execution_count": null,
      "outputs": []
    },
    {
      "cell_type": "code",
      "source": [
        "# Preprocess text (username and link placeholders)\n",
        "def preprocess(text):\n",
        "    new_text = []\n",
        "\n",
        "    for t in text.split(\" \"):\n",
        "        t = '' if t.startswith('@') and len(t) > 1 else t\n",
        "        t = '' if t.startswith('http') else t\n",
        "        t = t.replace(\"#\",\"\")\n",
        "        new_text.append(t.lower())\n",
        "    return \" \".join(new_text).strip().replace(\"  \", \" \")"
      ],
      "metadata": {
        "id": "test9T6Skw-v"
      },
      "execution_count": null,
      "outputs": []
    },
    {
      "cell_type": "code",
      "source": [
        "train_df['text'] = train_df['text'].apply(preprocess)\n",
        "train_df.head()"
      ],
      "metadata": {
        "colab": {
          "base_uri": "https://localhost:8080/",
          "height": 241
        },
        "id": "XCHmjwTfkyey",
        "outputId": "95855439-dda7-4636-baaa-49a94aa260cc"
      },
      "execution_count": null,
      "outputs": [
        {
          "output_type": "execute_result",
          "data": {
            "text/plain": [
              "  id_comment       source                                               text  \\\n",
              "0    UID0000    Instagram  makin dewasa makin sadar bahwa taktik pemerint...   \n",
              "1    UID0001  X / Twitter  membuktikan hal yg benar di pengadilan itu mmg...   \n",
              "2    UID0002    Instagram                      rip keadilan di indonesia 🥀🥀🥀   \n",
              "3    UID0003    Instagram  dengan adanya pinjol, judol dan para rentenir ...   \n",
              "4    UID0004    Instagram                                 negri morat marit🥀   \n",
              "\n",
              "     label  \n",
              "0  SADNESS  \n",
              "1    ANGER  \n",
              "2  SADNESS  \n",
              "3    ANGER  \n",
              "4  SADNESS  "
            ],
            "text/html": [
              "\n",
              "  <div id=\"df-a4a0ba89-9a52-4aa9-8bcd-45775742cb63\" class=\"colab-df-container\">\n",
              "    <div>\n",
              "<style scoped>\n",
              "    .dataframe tbody tr th:only-of-type {\n",
              "        vertical-align: middle;\n",
              "    }\n",
              "\n",
              "    .dataframe tbody tr th {\n",
              "        vertical-align: top;\n",
              "    }\n",
              "\n",
              "    .dataframe thead th {\n",
              "        text-align: right;\n",
              "    }\n",
              "</style>\n",
              "<table border=\"1\" class=\"dataframe\">\n",
              "  <thead>\n",
              "    <tr style=\"text-align: right;\">\n",
              "      <th></th>\n",
              "      <th>id_comment</th>\n",
              "      <th>source</th>\n",
              "      <th>text</th>\n",
              "      <th>label</th>\n",
              "    </tr>\n",
              "  </thead>\n",
              "  <tbody>\n",
              "    <tr>\n",
              "      <th>0</th>\n",
              "      <td>UID0000</td>\n",
              "      <td>Instagram</td>\n",
              "      <td>makin dewasa makin sadar bahwa taktik pemerint...</td>\n",
              "      <td>SADNESS</td>\n",
              "    </tr>\n",
              "    <tr>\n",
              "      <th>1</th>\n",
              "      <td>UID0001</td>\n",
              "      <td>X / Twitter</td>\n",
              "      <td>membuktikan hal yg benar di pengadilan itu mmg...</td>\n",
              "      <td>ANGER</td>\n",
              "    </tr>\n",
              "    <tr>\n",
              "      <th>2</th>\n",
              "      <td>UID0002</td>\n",
              "      <td>Instagram</td>\n",
              "      <td>rip keadilan di indonesia 🥀🥀🥀</td>\n",
              "      <td>SADNESS</td>\n",
              "    </tr>\n",
              "    <tr>\n",
              "      <th>3</th>\n",
              "      <td>UID0003</td>\n",
              "      <td>Instagram</td>\n",
              "      <td>dengan adanya pinjol, judol dan para rentenir ...</td>\n",
              "      <td>ANGER</td>\n",
              "    </tr>\n",
              "    <tr>\n",
              "      <th>4</th>\n",
              "      <td>UID0004</td>\n",
              "      <td>Instagram</td>\n",
              "      <td>negri morat marit🥀</td>\n",
              "      <td>SADNESS</td>\n",
              "    </tr>\n",
              "  </tbody>\n",
              "</table>\n",
              "</div>\n",
              "    <div class=\"colab-df-buttons\">\n",
              "\n",
              "  <div class=\"colab-df-container\">\n",
              "    <button class=\"colab-df-convert\" onclick=\"convertToInteractive('df-a4a0ba89-9a52-4aa9-8bcd-45775742cb63')\"\n",
              "            title=\"Convert this dataframe to an interactive table.\"\n",
              "            style=\"display:none;\">\n",
              "\n",
              "  <svg xmlns=\"http://www.w3.org/2000/svg\" height=\"24px\" viewBox=\"0 -960 960 960\">\n",
              "    <path d=\"M120-120v-720h720v720H120Zm60-500h600v-160H180v160Zm220 220h160v-160H400v160Zm0 220h160v-160H400v160ZM180-400h160v-160H180v160Zm440 0h160v-160H620v160ZM180-180h160v-160H180v160Zm440 0h160v-160H620v160Z\"/>\n",
              "  </svg>\n",
              "    </button>\n",
              "\n",
              "  <style>\n",
              "    .colab-df-container {\n",
              "      display:flex;\n",
              "      gap: 12px;\n",
              "    }\n",
              "\n",
              "    .colab-df-convert {\n",
              "      background-color: #E8F0FE;\n",
              "      border: none;\n",
              "      border-radius: 50%;\n",
              "      cursor: pointer;\n",
              "      display: none;\n",
              "      fill: #1967D2;\n",
              "      height: 32px;\n",
              "      padding: 0 0 0 0;\n",
              "      width: 32px;\n",
              "    }\n",
              "\n",
              "    .colab-df-convert:hover {\n",
              "      background-color: #E2EBFA;\n",
              "      box-shadow: 0px 1px 2px rgba(60, 64, 67, 0.3), 0px 1px 3px 1px rgba(60, 64, 67, 0.15);\n",
              "      fill: #174EA6;\n",
              "    }\n",
              "\n",
              "    .colab-df-buttons div {\n",
              "      margin-bottom: 4px;\n",
              "    }\n",
              "\n",
              "    [theme=dark] .colab-df-convert {\n",
              "      background-color: #3B4455;\n",
              "      fill: #D2E3FC;\n",
              "    }\n",
              "\n",
              "    [theme=dark] .colab-df-convert:hover {\n",
              "      background-color: #434B5C;\n",
              "      box-shadow: 0px 1px 3px 1px rgba(0, 0, 0, 0.15);\n",
              "      filter: drop-shadow(0px 1px 2px rgba(0, 0, 0, 0.3));\n",
              "      fill: #FFFFFF;\n",
              "    }\n",
              "  </style>\n",
              "\n",
              "    <script>\n",
              "      const buttonEl =\n",
              "        document.querySelector('#df-a4a0ba89-9a52-4aa9-8bcd-45775742cb63 button.colab-df-convert');\n",
              "      buttonEl.style.display =\n",
              "        google.colab.kernel.accessAllowed ? 'block' : 'none';\n",
              "\n",
              "      async function convertToInteractive(key) {\n",
              "        const element = document.querySelector('#df-a4a0ba89-9a52-4aa9-8bcd-45775742cb63');\n",
              "        const dataTable =\n",
              "          await google.colab.kernel.invokeFunction('convertToInteractive',\n",
              "                                                    [key], {});\n",
              "        if (!dataTable) return;\n",
              "\n",
              "        const docLinkHtml = 'Like what you see? Visit the ' +\n",
              "          '<a target=\"_blank\" href=https://colab.research.google.com/notebooks/data_table.ipynb>data table notebook</a>'\n",
              "          + ' to learn more about interactive tables.';\n",
              "        element.innerHTML = '';\n",
              "        dataTable['output_type'] = 'display_data';\n",
              "        await google.colab.output.renderOutput(dataTable, element);\n",
              "        const docLink = document.createElement('div');\n",
              "        docLink.innerHTML = docLinkHtml;\n",
              "        element.appendChild(docLink);\n",
              "      }\n",
              "    </script>\n",
              "  </div>\n",
              "\n",
              "\n",
              "    <div id=\"df-772ecfa2-748a-47b2-b199-998f1fb203f3\">\n",
              "      <button class=\"colab-df-quickchart\" onclick=\"quickchart('df-772ecfa2-748a-47b2-b199-998f1fb203f3')\"\n",
              "                title=\"Suggest charts\"\n",
              "                style=\"display:none;\">\n",
              "\n",
              "<svg xmlns=\"http://www.w3.org/2000/svg\" height=\"24px\"viewBox=\"0 0 24 24\"\n",
              "     width=\"24px\">\n",
              "    <g>\n",
              "        <path d=\"M19 3H5c-1.1 0-2 .9-2 2v14c0 1.1.9 2 2 2h14c1.1 0 2-.9 2-2V5c0-1.1-.9-2-2-2zM9 17H7v-7h2v7zm4 0h-2V7h2v10zm4 0h-2v-4h2v4z\"/>\n",
              "    </g>\n",
              "</svg>\n",
              "      </button>\n",
              "\n",
              "<style>\n",
              "  .colab-df-quickchart {\n",
              "      --bg-color: #E8F0FE;\n",
              "      --fill-color: #1967D2;\n",
              "      --hover-bg-color: #E2EBFA;\n",
              "      --hover-fill-color: #174EA6;\n",
              "      --disabled-fill-color: #AAA;\n",
              "      --disabled-bg-color: #DDD;\n",
              "  }\n",
              "\n",
              "  [theme=dark] .colab-df-quickchart {\n",
              "      --bg-color: #3B4455;\n",
              "      --fill-color: #D2E3FC;\n",
              "      --hover-bg-color: #434B5C;\n",
              "      --hover-fill-color: #FFFFFF;\n",
              "      --disabled-bg-color: #3B4455;\n",
              "      --disabled-fill-color: #666;\n",
              "  }\n",
              "\n",
              "  .colab-df-quickchart {\n",
              "    background-color: var(--bg-color);\n",
              "    border: none;\n",
              "    border-radius: 50%;\n",
              "    cursor: pointer;\n",
              "    display: none;\n",
              "    fill: var(--fill-color);\n",
              "    height: 32px;\n",
              "    padding: 0;\n",
              "    width: 32px;\n",
              "  }\n",
              "\n",
              "  .colab-df-quickchart:hover {\n",
              "    background-color: var(--hover-bg-color);\n",
              "    box-shadow: 0 1px 2px rgba(60, 64, 67, 0.3), 0 1px 3px 1px rgba(60, 64, 67, 0.15);\n",
              "    fill: var(--button-hover-fill-color);\n",
              "  }\n",
              "\n",
              "  .colab-df-quickchart-complete:disabled,\n",
              "  .colab-df-quickchart-complete:disabled:hover {\n",
              "    background-color: var(--disabled-bg-color);\n",
              "    fill: var(--disabled-fill-color);\n",
              "    box-shadow: none;\n",
              "  }\n",
              "\n",
              "  .colab-df-spinner {\n",
              "    border: 2px solid var(--fill-color);\n",
              "    border-color: transparent;\n",
              "    border-bottom-color: var(--fill-color);\n",
              "    animation:\n",
              "      spin 1s steps(1) infinite;\n",
              "  }\n",
              "\n",
              "  @keyframes spin {\n",
              "    0% {\n",
              "      border-color: transparent;\n",
              "      border-bottom-color: var(--fill-color);\n",
              "      border-left-color: var(--fill-color);\n",
              "    }\n",
              "    20% {\n",
              "      border-color: transparent;\n",
              "      border-left-color: var(--fill-color);\n",
              "      border-top-color: var(--fill-color);\n",
              "    }\n",
              "    30% {\n",
              "      border-color: transparent;\n",
              "      border-left-color: var(--fill-color);\n",
              "      border-top-color: var(--fill-color);\n",
              "      border-right-color: var(--fill-color);\n",
              "    }\n",
              "    40% {\n",
              "      border-color: transparent;\n",
              "      border-right-color: var(--fill-color);\n",
              "      border-top-color: var(--fill-color);\n",
              "    }\n",
              "    60% {\n",
              "      border-color: transparent;\n",
              "      border-right-color: var(--fill-color);\n",
              "    }\n",
              "    80% {\n",
              "      border-color: transparent;\n",
              "      border-right-color: var(--fill-color);\n",
              "      border-bottom-color: var(--fill-color);\n",
              "    }\n",
              "    90% {\n",
              "      border-color: transparent;\n",
              "      border-bottom-color: var(--fill-color);\n",
              "    }\n",
              "  }\n",
              "</style>\n",
              "\n",
              "      <script>\n",
              "        async function quickchart(key) {\n",
              "          const quickchartButtonEl =\n",
              "            document.querySelector('#' + key + ' button');\n",
              "          quickchartButtonEl.disabled = true;  // To prevent multiple clicks.\n",
              "          quickchartButtonEl.classList.add('colab-df-spinner');\n",
              "          try {\n",
              "            const charts = await google.colab.kernel.invokeFunction(\n",
              "                'suggestCharts', [key], {});\n",
              "          } catch (error) {\n",
              "            console.error('Error during call to suggestCharts:', error);\n",
              "          }\n",
              "          quickchartButtonEl.classList.remove('colab-df-spinner');\n",
              "          quickchartButtonEl.classList.add('colab-df-quickchart-complete');\n",
              "        }\n",
              "        (() => {\n",
              "          let quickchartButtonEl =\n",
              "            document.querySelector('#df-772ecfa2-748a-47b2-b199-998f1fb203f3 button');\n",
              "          quickchartButtonEl.style.display =\n",
              "            google.colab.kernel.accessAllowed ? 'block' : 'none';\n",
              "        })();\n",
              "      </script>\n",
              "    </div>\n",
              "\n",
              "    </div>\n",
              "  </div>\n"
            ],
            "application/vnd.google.colaboratory.intrinsic+json": {
              "type": "dataframe",
              "variable_name": "train_df",
              "summary": "{\n  \"name\": \"train_df\",\n  \"rows\": 5083,\n  \"fields\": [\n    {\n      \"column\": \"id_comment\",\n      \"properties\": {\n        \"dtype\": \"string\",\n        \"num_unique_values\": 5083,\n        \"samples\": [\n          \"UID2700\",\n          \"UID2588\",\n          \"UID2997\"\n        ],\n        \"semantic_type\": \"\",\n        \"description\": \"\"\n      }\n    },\n    {\n      \"column\": \"source\",\n      \"properties\": {\n        \"dtype\": \"category\",\n        \"num_unique_values\": 2,\n        \"samples\": [\n          \"X / Twitter\",\n          \"Instagram\"\n        ],\n        \"semantic_type\": \"\",\n        \"description\": \"\"\n      }\n    },\n    {\n      \"column\": \"text\",\n      \"properties\": {\n        \"dtype\": \"string\",\n        \"num_unique_values\": 5064,\n        \"samples\": [\n          \"pak tom \\ud83d\\udcaa\\ud83d\\udcaa we pround of you pak..\",\n          \"kejauhan lah bro ngomong neraka mereka oknum hakim itu sudah disumpah dg kitab sucinya masing2 artinya apa tuhan aja mereka gak takut kok apalagi nerakanya, mereka berfikir hidup didunia ini 1000 th lamanya padahal masuk usia 80 masih sehat aja udah untung...\"\n        ],\n        \"semantic_type\": \"\",\n        \"description\": \"\"\n      }\n    },\n    {\n      \"column\": \"label\",\n      \"properties\": {\n        \"dtype\": \"category\",\n        \"num_unique_values\": 5,\n        \"samples\": [\n          \"ANGER\",\n          \"DISAPPOINTMENT\"\n        ],\n        \"semantic_type\": \"\",\n        \"description\": \"\"\n      }\n    }\n  ]\n}"
            }
          },
          "metadata": {},
          "execution_count": 28
        }
      ]
    },
    {
      "cell_type": "markdown",
      "source": [
        "TOKENIZER"
      ],
      "metadata": {
        "id": "p9PkU0Tkvztp"
      }
    },
    {
      "cell_type": "code",
      "source": [
        "# example of tokenization\n",
        "tokenized_text = train_df['text'].apply(tokenizer.tokenize)\n",
        "display(tokenized_text.head())"
      ],
      "metadata": {
        "colab": {
          "base_uri": "https://localhost:8080/",
          "height": 241
        },
        "id": "vIbKcd2Ckz_c",
        "outputId": "1b9aa51b-7b61-4e6e-a0f2-ae5527ed9c18"
      },
      "execution_count": null,
      "outputs": [
        {
          "output_type": "display_data",
          "data": {
            "text/plain": [
              "0    [ma, ##kin, dew, ##asa, ma, ##kin, sad, ##ar, ...\n",
              "1    [me, ##mb, ##uk, ##ti, ##kan, hal, y, ##g, ben...\n",
              "2        [rip, ke, ##adi, ##lan, di, indonesia, [UNK]]\n",
              "3    [deng, ##an, ada, ##nya, pin, ##jo, ##l, ,, ju...\n",
              "4                    [ne, ##gr, ##i, mora, ##t, [UNK]]\n",
              "Name: text, dtype: object"
            ],
            "text/html": [
              "<div>\n",
              "<style scoped>\n",
              "    .dataframe tbody tr th:only-of-type {\n",
              "        vertical-align: middle;\n",
              "    }\n",
              "\n",
              "    .dataframe tbody tr th {\n",
              "        vertical-align: top;\n",
              "    }\n",
              "\n",
              "    .dataframe thead th {\n",
              "        text-align: right;\n",
              "    }\n",
              "</style>\n",
              "<table border=\"1\" class=\"dataframe\">\n",
              "  <thead>\n",
              "    <tr style=\"text-align: right;\">\n",
              "      <th></th>\n",
              "      <th>text</th>\n",
              "    </tr>\n",
              "  </thead>\n",
              "  <tbody>\n",
              "    <tr>\n",
              "      <th>0</th>\n",
              "      <td>[ma, ##kin, dew, ##asa, ma, ##kin, sad, ##ar, ...</td>\n",
              "    </tr>\n",
              "    <tr>\n",
              "      <th>1</th>\n",
              "      <td>[me, ##mb, ##uk, ##ti, ##kan, hal, y, ##g, ben...</td>\n",
              "    </tr>\n",
              "    <tr>\n",
              "      <th>2</th>\n",
              "      <td>[rip, ke, ##adi, ##lan, di, indonesia, [UNK]]</td>\n",
              "    </tr>\n",
              "    <tr>\n",
              "      <th>3</th>\n",
              "      <td>[deng, ##an, ada, ##nya, pin, ##jo, ##l, ,, ju...</td>\n",
              "    </tr>\n",
              "    <tr>\n",
              "      <th>4</th>\n",
              "      <td>[ne, ##gr, ##i, mora, ##t, [UNK]]</td>\n",
              "    </tr>\n",
              "  </tbody>\n",
              "</table>\n",
              "</div><br><label><b>dtype:</b> object</label>"
            ]
          },
          "metadata": {}
        }
      ]
    },
    {
      "cell_type": "markdown",
      "source": [
        "Tanda ## (hash-hash) adalah penanda bahwa unit tersebut adalah lanjutan dari kata sebelumnya.\n",
        "\n",
        "Jadi, tanda ## bukan untuk mengecilkan huruf, tetapi untuk menunjukkan struktur sub-kata."
      ],
      "metadata": {
        "id": "YJKMmbAcv4uX"
      }
    },
    {
      "cell_type": "code",
      "source": [
        "# example of an output from encoded text by tokeneizer\n",
        "encoded_input = tokenizer(train_df['text'].iloc[0], return_tensors='pt')\n",
        "print(encoded_input)"
      ],
      "metadata": {
        "colab": {
          "base_uri": "https://localhost:8080/"
        },
        "id": "Rqb3plEXk2NN",
        "outputId": "8e7a3190-8f86-475e-e9a4-9884ead58920"
      },
      "execution_count": null,
      "outputs": [
        {
          "output_type": "stream",
          "name": "stdout",
          "text": [
            "{'input_ids': tensor([[  101,  5003,  4939, 24903, 16782,  5003,  4939,  6517,  2906,  8670,\n",
            "         18663, 27006,  3775,  2243, 21877,  5017, 18447,  4430,  7367,  3549,\n",
            "          4590,  7556,  2078,   100,   102]]), 'token_type_ids': tensor([[0, 0, 0, 0, 0, 0, 0, 0, 0, 0, 0, 0, 0, 0, 0, 0, 0, 0, 0, 0, 0, 0, 0, 0,\n",
            "         0]]), 'attention_mask': tensor([[1, 1, 1, 1, 1, 1, 1, 1, 1, 1, 1, 1, 1, 1, 1, 1, 1, 1, 1, 1, 1, 1, 1, 1,\n",
            "         1]])}\n"
          ]
        }
      ]
    },
    {
      "cell_type": "markdown",
      "source": [
        "- mengubah satu baris teks dari DataFrame menjadi format numerik yang bisa diproses oleh model PyTorch.\n",
        "- return_tensors='pt': Argumen ini memberi tahu tokenizer untuk mengembalikan hasil dalam format tensor PyTorch ('pt'). Ini sangat penting karena model yang akan memproses input ini (seperti model BERT) menerima input dalam bentuk tensor."
      ],
      "metadata": {
        "id": "X4HnAPIIv_pr"
      }
    },
    {
      "cell_type": "code",
      "source": [
        "tokenizer.decode(encoded_input['input_ids'][0])"
      ],
      "metadata": {
        "colab": {
          "base_uri": "https://localhost:8080/",
          "height": 53
        },
        "id": "nNDqB8ryk4tG",
        "outputId": "f51a4941-687b-416b-dfaa-c3b833ae37b2"
      },
      "execution_count": null,
      "outputs": [
        {
          "output_type": "execute_result",
          "data": {
            "text/plain": [
              "'[CLS] makin dewasa makin sadar bahwa taktik pemerintah semengerikan [UNK] [SEP]'"
            ],
            "application/vnd.google.colaboratory.intrinsic+json": {
              "type": "string"
            }
          },
          "metadata": {},
          "execution_count": 31
        }
      ]
    },
    {
      "cell_type": "markdown",
      "source": [
        " FINALISASI TOKENIZER\n",
        "\n",
        " Mengubah seluruh kolom teks dalam DataFrame menjadi format numerik yang siap diproses oleh model TensorFlow"
      ],
      "metadata": {
        "id": "SSr6Jd3BwEBX"
      }
    },
    {
      "cell_type": "code",
      "source": [
        "# encoding the training data\n",
        "train_encoded_inputs = tokenizer(train_df['text'].tolist(),\n",
        "                                 add_special_tokens = True,\n",
        "                                 padding='max_length',\n",
        "                                 truncation=True,\n",
        "                                 max_length=SEQ_LEN,\n",
        "                                 return_token_type_ids=False,\n",
        "                                 return_tensors = 'tf')"
      ],
      "metadata": {
        "colab": {
          "base_uri": "https://localhost:8080/"
        },
        "id": "jdt-gfC6k59L",
        "outputId": "9bc45392-a8cd-4096-bf10-d6133b9b1346"
      },
      "execution_count": null,
      "outputs": [
        {
          "output_type": "stream",
          "name": "stderr",
          "text": [
            "TensorFlow and JAX classes are deprecated and will be removed in Transformers v5. We recommend migrating to PyTorch classes or pinning your version of Transformers.\n"
          ]
        }
      ]
    },
    {
      "cell_type": "code",
      "source": [
        "train_encoded_inputs"
      ],
      "metadata": {
        "colab": {
          "base_uri": "https://localhost:8080/"
        },
        "id": "mwv_Mp5jk7qW",
        "outputId": "9ce4bdf1-c4c2-4400-cccc-bab5369bc7e2"
      },
      "execution_count": null,
      "outputs": [
        {
          "output_type": "execute_result",
          "data": {
            "text/plain": [
              "{'input_ids': <tf.Tensor: shape=(5083, 100), dtype=int32, numpy=\n",
              "array([[  101,  5003,  4939, ...,     0,     0,     0],\n",
              "       [  101,  2033, 14905, ...,     0,     0,     0],\n",
              "       [  101, 10973, 17710, ...,     0,     0,     0],\n",
              "       ...,\n",
              "       [  101,   100, 13970, ...,     0,     0,     0],\n",
              "       [  101,  7367, 12707, ...,     0,     0,     0],\n",
              "       [  101, 20934,  4017, ...,     0,     0,     0]], dtype=int32)>, 'attention_mask': <tf.Tensor: shape=(5083, 100), dtype=int32, numpy=\n",
              "array([[1, 1, 1, ..., 0, 0, 0],\n",
              "       [1, 1, 1, ..., 0, 0, 0],\n",
              "       [1, 1, 1, ..., 0, 0, 0],\n",
              "       ...,\n",
              "       [1, 1, 1, ..., 0, 0, 0],\n",
              "       [1, 1, 1, ..., 0, 0, 0],\n",
              "       [1, 1, 1, ..., 0, 0, 0]], dtype=int32)>}"
            ]
          },
          "metadata": {},
          "execution_count": 33
        }
      ]
    },
    {
      "cell_type": "markdown",
      "source": [
        "Membuat Tensorflow Data"
      ],
      "metadata": {
        "id": "-sxlBX4PwMDT"
      }
    },
    {
      "cell_type": "code",
      "source": [
        "# Map string labels to integers\n",
        "label_map = {label: i for i, label in enumerate(train_df['label'].unique())}\n",
        "train_df['label_encoded'] = train_df['label'].map(label_map)\n",
        "\n",
        "train_dataset = tf.data.Dataset.from_tensor_slices((train_encoded_inputs, train_df['label_encoded'].values))"
      ],
      "metadata": {
        "id": "kYDy1bXIlBxn"
      },
      "execution_count": null,
      "outputs": []
    },
    {
      "cell_type": "code",
      "source": [
        "# formatting the data as required by bert model\n",
        "def map_bert(inputs, labels):\n",
        "  inputs = {'input_ids': inputs['input_ids'],\n",
        "            'attention_mask': inputs['attention_mask']}\n",
        "\n",
        "  return inputs, labels"
      ],
      "metadata": {
        "id": "RA14uejLlDKV"
      },
      "execution_count": null,
      "outputs": []
    },
    {
      "cell_type": "code",
      "source": [
        "train_dataset = train_dataset.map(map_bert)"
      ],
      "metadata": {
        "id": "F1Oz6mXAlESq"
      },
      "execution_count": null,
      "outputs": []
    },
    {
      "cell_type": "code",
      "source": [
        "for t in train_dataset.take(2):\n",
        "  print (t)"
      ],
      "metadata": {
        "colab": {
          "base_uri": "https://localhost:8080/"
        },
        "id": "yuyzygM8lFUa",
        "outputId": "b9a667ea-4608-48cf-d955-4d2df252dd24"
      },
      "execution_count": null,
      "outputs": [
        {
          "output_type": "stream",
          "name": "stdout",
          "text": [
            "({'input_ids': <tf.Tensor: shape=(100,), dtype=int32, numpy=\n",
            "array([  101,  5003,  4939, 24903, 16782,  5003,  4939,  6517,  2906,\n",
            "        8670, 18663, 27006,  3775,  2243, 21877,  5017, 18447,  4430,\n",
            "        7367,  3549,  4590,  7556,  2078,   100,   102,     0,     0,\n",
            "           0,     0,     0,     0,     0,     0,     0,     0,     0,\n",
            "           0,     0,     0,     0,     0,     0,     0,     0,     0,\n",
            "           0,     0,     0,     0,     0,     0,     0,     0,     0,\n",
            "           0,     0,     0,     0,     0,     0,     0,     0,     0,\n",
            "           0,     0,     0,     0,     0,     0,     0,     0,     0,\n",
            "           0,     0,     0,     0,     0,     0,     0,     0,     0,\n",
            "           0,     0,     0,     0,     0,     0,     0,     0,     0,\n",
            "           0,     0,     0,     0,     0,     0,     0,     0,     0,\n",
            "           0], dtype=int32)>, 'attention_mask': <tf.Tensor: shape=(100,), dtype=int32, numpy=\n",
            "array([1, 1, 1, 1, 1, 1, 1, 1, 1, 1, 1, 1, 1, 1, 1, 1, 1, 1, 1, 1, 1, 1,\n",
            "       1, 1, 1, 0, 0, 0, 0, 0, 0, 0, 0, 0, 0, 0, 0, 0, 0, 0, 0, 0, 0, 0,\n",
            "       0, 0, 0, 0, 0, 0, 0, 0, 0, 0, 0, 0, 0, 0, 0, 0, 0, 0, 0, 0, 0, 0,\n",
            "       0, 0, 0, 0, 0, 0, 0, 0, 0, 0, 0, 0, 0, 0, 0, 0, 0, 0, 0, 0, 0, 0,\n",
            "       0, 0, 0, 0, 0, 0, 0, 0, 0, 0, 0, 0], dtype=int32)>}, <tf.Tensor: shape=(), dtype=int64, numpy=0>)\n",
            "({'input_ids': <tf.Tensor: shape=(100,), dtype=int32, numpy=\n",
            "array([  101,  2033, 14905,  6968,  3775,  9126, 11085,  1061,  2290,\n",
            "        3841,  2906,  4487, 26473, 17190,  5802,  2009,  2226,  3461,\n",
            "        2290, 25353, 10383,  2232,  1012,  7367, 17198, 19190,  1010,\n",
            "        7367, 28793,  2319, 22190,  3419,  3393, 13344,  3070,  1055,\n",
            "        3501,  9092,  4502, 23713,  4609, 16137,  6968, 20934,  2072,\n",
            "        1022, 20934,  5802,  1012, 13221, 16137, 19190,  2273,  4667,\n",
            "        5796,  2232, 20377,  2050, 12835, 23067,  2099, 12835,  3593,\n",
            "        5313,  1050,  2022, 26992,  7847, 25353,  4630,  5480,  1010,\n",
            "       10556, 10286,  5003,  9004, 16377,  2015, 16510, 13159, 17190,\n",
            "        5802,   100,   102,     0,     0,     0,     0,     0,     0,\n",
            "           0,     0,     0,     0,     0,     0,     0,     0,     0,\n",
            "           0], dtype=int32)>, 'attention_mask': <tf.Tensor: shape=(100,), dtype=int32, numpy=\n",
            "array([1, 1, 1, 1, 1, 1, 1, 1, 1, 1, 1, 1, 1, 1, 1, 1, 1, 1, 1, 1, 1, 1,\n",
            "       1, 1, 1, 1, 1, 1, 1, 1, 1, 1, 1, 1, 1, 1, 1, 1, 1, 1, 1, 1, 1, 1,\n",
            "       1, 1, 1, 1, 1, 1, 1, 1, 1, 1, 1, 1, 1, 1, 1, 1, 1, 1, 1, 1, 1, 1,\n",
            "       1, 1, 1, 1, 1, 1, 1, 1, 1, 1, 1, 1, 1, 1, 1, 1, 1, 1, 0, 0, 0, 0,\n",
            "       0, 0, 0, 0, 0, 0, 0, 0, 0, 0, 0, 0], dtype=int32)>}, <tf.Tensor: shape=(), dtype=int64, numpy=1>)\n"
          ]
        }
      ]
    },
    {
      "cell_type": "markdown",
      "source": [
        "Train Test Split"
      ],
      "metadata": {
        "id": "8xSMiSdbwPky"
      }
    },
    {
      "cell_type": "code",
      "source": [
        "dataset = train_dataset.shuffle(100000).batch(64)"
      ],
      "metadata": {
        "id": "FcNUvJAMlGOI"
      },
      "execution_count": null,
      "outputs": []
    },
    {
      "cell_type": "code",
      "source": [
        "# length of the dataset(total batches)\n",
        "DS_LEN = len(dataset)\n",
        "DS_LEN"
      ],
      "metadata": {
        "colab": {
          "base_uri": "https://localhost:8080/"
        },
        "id": "z6OwO1I8lHvZ",
        "outputId": "d23f001e-be1b-4464-c136-ad7dd950ea47"
      },
      "execution_count": null,
      "outputs": [
        {
          "output_type": "execute_result",
          "data": {
            "text/plain": [
              "80"
            ]
          },
          "metadata": {},
          "execution_count": 39
        }
      ]
    },
    {
      "cell_type": "code",
      "source": [
        "# take 80% for train and 20% for validation\n",
        "SPLIT = 0.8\n",
        "train_ds = dataset.take(round(DS_LEN*SPLIT))\n",
        "val_ds = dataset.skip(round(DS_LEN*SPLIT))"
      ],
      "metadata": {
        "id": "yH-Cv1OalI8I"
      },
      "execution_count": null,
      "outputs": []
    },
    {
      "cell_type": "markdown",
      "source": [
        "Modelling"
      ],
      "metadata": {
        "id": "39r_PIUCwSK_"
      }
    },
    {
      "cell_type": "code",
      "source": [
        "from transformers import TFAutoModel"
      ],
      "metadata": {
        "id": "fe1aABGNlJ3v"
      },
      "execution_count": null,
      "outputs": []
    },
    {
      "cell_type": "code",
      "source": [
        "bert = TFAutoModel.from_pretrained('bert-base-uncased')"
      ],
      "metadata": {
        "colab": {
          "base_uri": "https://localhost:8080/"
        },
        "id": "JDmyqx8KlLhL",
        "outputId": "2054e3b6-5e42-4e11-e693-d0f1d7a8a863"
      },
      "execution_count": null,
      "outputs": [
        {
          "output_type": "stream",
          "name": "stderr",
          "text": [
            "TensorFlow and JAX classes are deprecated and will be removed in Transformers v5. We recommend migrating to PyTorch classes or pinning your version of Transformers.\n",
            "Some layers from the model checkpoint at bert-base-uncased were not used when initializing TFBertModel: ['nsp___cls', 'mlm___cls']\n",
            "- This IS expected if you are initializing TFBertModel from the checkpoint of a model trained on another task or with another architecture (e.g. initializing a BertForSequenceClassification model from a BertForPreTraining model).\n",
            "- This IS NOT expected if you are initializing TFBertModel from the checkpoint of a model that you expect to be exactly identical (initializing a BertForSequenceClassification model from a BertForSequenceClassification model).\n",
            "All the layers of TFBertModel were initialized from the model checkpoint at bert-base-uncased.\n",
            "If your task is similar to the task the model of the checkpoint was trained on, you can already use TFBertModel for predictions without further training.\n"
          ]
        }
      ]
    },
    {
      "cell_type": "code",
      "source": [
        "# create model architecture\n",
        "n_classes = len(train_df['label'].unique()) # Get the number of unique labels\n",
        "\n",
        "# Input layers\n",
        "input_ids = tf.keras.layers.Input(shape=(SEQ_LEN,), dtype=np.int32, name='input_ids' )\n",
        "mask = tf.keras.layers.Input(shape=(SEQ_LEN,), dtype=np.int32, name = 'attention_mask')\n",
        "\n",
        "# bert embeddings\n",
        "embeddings = bert([input_ids, mask])[0]\n",
        "cls_token = embeddings[:,0,:]\n",
        "\n",
        "# keras layers\n",
        "#x = tf.keras.layers.GlobalMaxPool1D()(embeddings)\n",
        "x = tf.keras.layers.BatchNormalization()(cls_token)\n",
        "x = tf.keras.layers.Dense(128, activation='relu')(x)\n",
        "x = tf.keras.layers.Dropout(0.2)(x)\n",
        "x = tf.keras.layers.Dense(32, activation='relu')(x)\n",
        "\n",
        "# output layer - changed to n_classes units and softmax activation\n",
        "y = tf.keras.layers.Dense(n_classes, activation='softmax')(x)\n",
        "\n",
        "# create the model\n",
        "model = tf.keras.Model(inputs=[input_ids, mask], outputs=y)"
      ],
      "metadata": {
        "id": "1xciOha8lMyW"
      },
      "execution_count": null,
      "outputs": []
    },
    {
      "cell_type": "code",
      "source": [
        "model.summary()"
      ],
      "metadata": {
        "colab": {
          "base_uri": "https://localhost:8080/"
        },
        "id": "nHIVdvKvlZZb",
        "outputId": "eb4db6a5-005a-41df-d06a-7ebed6a47320"
      },
      "execution_count": null,
      "outputs": [
        {
          "output_type": "stream",
          "name": "stdout",
          "text": [
            "Model: \"model\"\n",
            "__________________________________________________________________________________________________\n",
            " Layer (type)                Output Shape                 Param #   Connected to                  \n",
            "==================================================================================================\n",
            " input_ids (InputLayer)      [(None, 100)]                0         []                            \n",
            "                                                                                                  \n",
            " attention_mask (InputLayer  [(None, 100)]                0         []                            \n",
            " )                                                                                                \n",
            "                                                                                                  \n",
            " tf_bert_model (TFBertModel  TFBaseModelOutputWithPooli   1094822   ['input_ids[0][0]',           \n",
            " )                           ngAndCrossAttentions(last_   40         'attention_mask[0][0]']      \n",
            "                             hidden_state=(None, 100, 7                                           \n",
            "                             68),                                                                 \n",
            "                              pooler_output=(None, 768)                                           \n",
            "                             , past_key_values=None, hi                                           \n",
            "                             dden_states=None, attentio                                           \n",
            "                             ns=None, cross_attentions=                                           \n",
            "                             None)                                                                \n",
            "                                                                                                  \n",
            " tf.__operators__.getitem (  (None, 768)                  0         ['tf_bert_model[0][0]']       \n",
            " SlicingOpLambda)                                                                                 \n",
            "                                                                                                  \n",
            " batch_normalization (Batch  (None, 768)                  3072      ['tf.__operators__.getitem[0][\n",
            " Normalization)                                                     0]']                          \n",
            "                                                                                                  \n",
            " dense (Dense)               (None, 128)                  98432     ['batch_normalization[0][0]'] \n",
            "                                                                                                  \n",
            " dropout_37 (Dropout)        (None, 128)                  0         ['dense[0][0]']               \n",
            "                                                                                                  \n",
            " dense_1 (Dense)             (None, 32)                   4128      ['dropout_37[0][0]']          \n",
            "                                                                                                  \n",
            " dense_2 (Dense)             (None, 5)                    165       ['dense_1[0][0]']             \n",
            "                                                                                                  \n",
            "==================================================================================================\n",
            "Total params: 109588037 (418.05 MB)\n",
            "Trainable params: 109586501 (418.04 MB)\n",
            "Non-trainable params: 1536 (6.00 KB)\n",
            "__________________________________________________________________________________________________\n"
          ]
        }
      ]
    },
    {
      "cell_type": "code",
      "source": [
        "# freezing the pretrained bert layer\n",
        "model.layers[2].trainable = False\n",
        "model.summary()"
      ],
      "metadata": {
        "colab": {
          "base_uri": "https://localhost:8080/"
        },
        "id": "HERk4Vcqle4d",
        "outputId": "2b8217e0-d7b1-482a-fd7e-36f806611d04"
      },
      "execution_count": null,
      "outputs": [
        {
          "output_type": "stream",
          "name": "stdout",
          "text": [
            "Model: \"model\"\n",
            "__________________________________________________________________________________________________\n",
            " Layer (type)                Output Shape                 Param #   Connected to                  \n",
            "==================================================================================================\n",
            " input_ids (InputLayer)      [(None, 100)]                0         []                            \n",
            "                                                                                                  \n",
            " attention_mask (InputLayer  [(None, 100)]                0         []                            \n",
            " )                                                                                                \n",
            "                                                                                                  \n",
            " tf_bert_model (TFBertModel  TFBaseModelOutputWithPooli   1094822   ['input_ids[0][0]',           \n",
            " )                           ngAndCrossAttentions(last_   40         'attention_mask[0][0]']      \n",
            "                             hidden_state=(None, 100, 7                                           \n",
            "                             68),                                                                 \n",
            "                              pooler_output=(None, 768)                                           \n",
            "                             , past_key_values=None, hi                                           \n",
            "                             dden_states=None, attentio                                           \n",
            "                             ns=None, cross_attentions=                                           \n",
            "                             None)                                                                \n",
            "                                                                                                  \n",
            " tf.__operators__.getitem (  (None, 768)                  0         ['tf_bert_model[0][0]']       \n",
            " SlicingOpLambda)                                                                                 \n",
            "                                                                                                  \n",
            " batch_normalization (Batch  (None, 768)                  3072      ['tf.__operators__.getitem[0][\n",
            " Normalization)                                                     0]']                          \n",
            "                                                                                                  \n",
            " dense (Dense)               (None, 128)                  98432     ['batch_normalization[0][0]'] \n",
            "                                                                                                  \n",
            " dropout_37 (Dropout)        (None, 128)                  0         ['dense[0][0]']               \n",
            "                                                                                                  \n",
            " dense_1 (Dense)             (None, 32)                   4128      ['dropout_37[0][0]']          \n",
            "                                                                                                  \n",
            " dense_2 (Dense)             (None, 5)                    165       ['dense_1[0][0]']             \n",
            "                                                                                                  \n",
            "==================================================================================================\n",
            "Total params: 109588037 (418.05 MB)\n",
            "Trainable params: 104261 (407.27 KB)\n",
            "Non-trainable params: 109483776 (417.65 MB)\n",
            "__________________________________________________________________________________________________\n"
          ]
        }
      ]
    },
    {
      "cell_type": "markdown",
      "source": [
        "COMPILE MODEL"
      ],
      "metadata": {
        "id": "D5kEBP6VwY2J"
      }
    },
    {
      "cell_type": "code",
      "source": [
        "import transformers"
      ],
      "metadata": {
        "id": "o8GZ31f6lhcs"
      },
      "execution_count": null,
      "outputs": []
    },
    {
      "cell_type": "code",
      "source": [
        "train_df['label'].unique()"
      ],
      "metadata": {
        "colab": {
          "base_uri": "https://localhost:8080/"
        },
        "id": "JtbNQb3QljPX",
        "outputId": "5b81adb6-359a-475b-8608-b0f696afd26f"
      },
      "execution_count": null,
      "outputs": [
        {
          "output_type": "execute_result",
          "data": {
            "text/plain": [
              "array(['SADNESS', 'ANGER', 'HOPE', 'SUPPORT', 'DISAPPOINTMENT'],\n",
              "      dtype=object)"
            ]
          },
          "metadata": {},
          "execution_count": 49
        }
      ]
    },
    {
      "cell_type": "code",
      "source": [
        "#learning_rate = 1e-3\n",
        "\n",
        "#optimizer = tf.keras.optimizers.Adam(learning_rate=5e-4)\n",
        "optimizer = tf.keras.optimizers.legacy.Adam(learning_rate=5e-4)\n",
        "#optimizer = transformers.AdamWeightDecay(learning_rate=5e-4)\n",
        "loss = tf.keras.losses.SparseCategoricalCrossentropy(from_logits=True)\n",
        "metric = tf.keras.metrics.SparseCategoricalAccuracy('accuracy')\n",
        "\n",
        "model.compile(optimizer=optimizer, loss=loss, metrics=[metric])"
      ],
      "metadata": {
        "id": "dcySYMKAlkYg"
      },
      "execution_count": null,
      "outputs": []
    },
    {
      "cell_type": "markdown",
      "source": [
        "- min_delta pada ReduceLROnPlateau berfungsi sebagai ambang batas untuk menentukan kapan harus mengurangi learning rate.\n",
        "- min_delta pada EarlyStopping berfungsi sebagai ambang batas untuk menghentikan pelatihan sepenuhnya ketika tidak ada perbaikan yang signifikan."
      ],
      "metadata": {
        "id": "kSbS_Ye-wgtD"
      }
    },
    {
      "cell_type": "code",
      "source": [
        "# train the model\n",
        "callbacks = [tf.keras.callbacks.ReduceLROnPlateau(patience=2, factor=0.1,min_delta=0.001,monitor='val_loss'),\n",
        "             tf.keras.callbacks.EarlyStopping(patience=5, min_delta=0.01, monitor='val_loss')]\n",
        "\n",
        "# Changed loss to SparseCategoricalCrossentropy for multi-class classification\n",
        "loss = tf.keras.losses.SparseCategoricalCrossentropy()\n",
        "metric = tf.keras.metrics.SparseCategoricalAccuracy('accuracy') # Changed metric\n",
        "\n",
        "model.compile(optimizer=optimizer, loss=loss, metrics=[metric])\n",
        "\n",
        "\n",
        "history = model.fit(\n",
        "    train_ds,\n",
        "    validation_data = val_ds,\n",
        "    epochs = 50,\n",
        "    callbacks = callbacks\n",
        ")"
      ],
      "metadata": {
        "colab": {
          "base_uri": "https://localhost:8080/"
        },
        "id": "M-AHguzQllmB",
        "outputId": "e0f1f31a-bfea-4a16-baa8-a11788f34413"
      },
      "execution_count": null,
      "outputs": [
        {
          "output_type": "stream",
          "name": "stdout",
          "text": [
            "Epoch 1/50\n",
            "64/64 [==============================] - 50s 634ms/step - loss: 1.5828 - accuracy: 0.3428 - val_loss: 1.4473 - val_accuracy: 0.3759 - lr: 5.0000e-04\n",
            "Epoch 2/50\n",
            "64/64 [==============================] - 40s 630ms/step - loss: 1.4007 - accuracy: 0.4177 - val_loss: 1.3190 - val_accuracy: 0.4934 - lr: 5.0000e-04\n",
            "Epoch 3/50\n",
            "64/64 [==============================] - 37s 585ms/step - loss: 1.3452 - accuracy: 0.4363 - val_loss: 1.3052 - val_accuracy: 0.4711 - lr: 5.0000e-04\n",
            "Epoch 4/50\n",
            "64/64 [==============================] - 37s 582ms/step - loss: 1.3211 - accuracy: 0.4517 - val_loss: 1.2379 - val_accuracy: 0.5370 - lr: 5.0000e-04\n",
            "Epoch 5/50\n",
            "64/64 [==============================] - 37s 579ms/step - loss: 1.2772 - accuracy: 0.4783 - val_loss: 1.1789 - val_accuracy: 0.5400 - lr: 5.0000e-04\n",
            "Epoch 6/50\n",
            "64/64 [==============================] - 37s 582ms/step - loss: 1.2707 - accuracy: 0.4875 - val_loss: 1.1795 - val_accuracy: 0.5248 - lr: 5.0000e-04\n",
            "Epoch 7/50\n",
            "64/64 [==============================] - 37s 577ms/step - loss: 1.2459 - accuracy: 0.4890 - val_loss: 1.1113 - val_accuracy: 0.5755 - lr: 5.0000e-04\n",
            "Epoch 8/50\n",
            "64/64 [==============================] - 37s 576ms/step - loss: 1.2400 - accuracy: 0.4968 - val_loss: 1.1101 - val_accuracy: 0.5583 - lr: 5.0000e-04\n",
            "Epoch 9/50\n",
            "64/64 [==============================] - 37s 577ms/step - loss: 1.2424 - accuracy: 0.4922 - val_loss: 1.0943 - val_accuracy: 0.5795 - lr: 5.0000e-04\n",
            "Epoch 10/50\n",
            "64/64 [==============================] - 37s 577ms/step - loss: 1.2207 - accuracy: 0.4976 - val_loss: 1.0936 - val_accuracy: 0.5694 - lr: 5.0000e-04\n",
            "Epoch 11/50\n",
            "64/64 [==============================] - 37s 580ms/step - loss: 1.2149 - accuracy: 0.5093 - val_loss: 1.0578 - val_accuracy: 0.5785 - lr: 5.0000e-04\n",
            "Epoch 12/50\n",
            "64/64 [==============================] - 37s 580ms/step - loss: 1.1861 - accuracy: 0.5176 - val_loss: 1.0484 - val_accuracy: 0.5846 - lr: 5.0000e-04\n",
            "Epoch 13/50\n",
            "64/64 [==============================] - 37s 582ms/step - loss: 1.1990 - accuracy: 0.5127 - val_loss: 1.0535 - val_accuracy: 0.5704 - lr: 5.0000e-04\n",
            "Epoch 14/50\n",
            "64/64 [==============================] - 37s 580ms/step - loss: 1.1946 - accuracy: 0.4990 - val_loss: 1.0077 - val_accuracy: 0.6049 - lr: 5.0000e-04\n",
            "Epoch 15/50\n",
            "64/64 [==============================] - 37s 581ms/step - loss: 1.1769 - accuracy: 0.5244 - val_loss: 1.0447 - val_accuracy: 0.5978 - lr: 5.0000e-04\n",
            "Epoch 16/50\n",
            "64/64 [==============================] - 37s 579ms/step - loss: 1.1769 - accuracy: 0.5200 - val_loss: 1.0333 - val_accuracy: 0.5805 - lr: 5.0000e-04\n",
            "Epoch 17/50\n",
            "64/64 [==============================] - 37s 581ms/step - loss: 1.1597 - accuracy: 0.5278 - val_loss: 1.0067 - val_accuracy: 0.5978 - lr: 5.0000e-05\n",
            "Epoch 18/50\n",
            "64/64 [==============================] - 37s 577ms/step - loss: 1.1396 - accuracy: 0.5325 - val_loss: 1.0307 - val_accuracy: 0.5795 - lr: 5.0000e-05\n",
            "Epoch 19/50\n",
            "64/64 [==============================] - 37s 576ms/step - loss: 1.1533 - accuracy: 0.5334 - val_loss: 1.0032 - val_accuracy: 0.5957 - lr: 5.0000e-05\n"
          ]
        }
      ]
    },
    {
      "cell_type": "code",
      "source": [
        "# plot the performance curve\n",
        "epochs = history.epoch\n",
        "plt.figure(figsize=(15, 6))\n",
        "\n",
        "# Accuracy\n",
        "plt.subplot(1,2, 1)\n",
        "plt.plot(epochs, history.history['accuracy'], label=\"Train\")\n",
        "plt.plot(epochs, history.history['val_accuracy'], label = \"Val\")\n",
        "plt.legend()\n",
        "plt.title(\"Accuracy\")\n",
        "\n",
        "# loss\n",
        "plt.subplot(1,2, 2)\n",
        "plt.plot(epochs, history.history['loss'], label=\"Train\")\n",
        "plt.plot(epochs, history.history['val_loss'], label = \"Val\")\n",
        "plt.legend()\n",
        "plt.title(\"Loss\")\n",
        "\n",
        "plt.show()"
      ],
      "metadata": {
        "colab": {
          "base_uri": "https://localhost:8080/",
          "height": 288
        },
        "id": "O5ebbRdClm26",
        "outputId": "9a46b835-6b47-4b4e-dac3-2658df1ae5ff"
      },
      "execution_count": null,
      "outputs": [
        {
          "output_type": "display_data",
          "data": {
            "text/plain": [
              "<Figure size 1500x600 with 2 Axes>"
            ],
            "image/png": "[encoded data removed]"
          },
          "metadata": {}
        }
      ]
    },
    {
      "cell_type": "code",
      "source": [
        "# evaluate on val data\n",
        "model.evaluate(val_ds)"
      ],
      "metadata": {
        "colab": {
          "base_uri": "https://localhost:8080/"
        },
        "id": "A63gCrqopN-o",
        "outputId": "6e411686-32e4-4b8f-9b4d-cb78c37d64ee"
      },
      "execution_count": null,
      "outputs": [
        {
          "output_type": "stream",
          "name": "stdout",
          "text": [
            "16/16 [==============================] - 7s 457ms/step - loss: 1.0348 - accuracy: 0.5704\n"
          ]
        },
        {
          "output_type": "execute_result",
          "data": {
            "text/plain": [
              "[1.0347884893417358, 0.5704153776168823]"
            ]
          },
          "metadata": {},
          "execution_count": 54
        }
      ]
    },
    {
      "cell_type": "code",
      "source": [
        "from sklearn.metrics import f1_score\n",
        "import numpy as np\n",
        "\n",
        "# Get true labels and predictions for the validation dataset\n",
        "y_true = []\n",
        "y_pred = []\n",
        "\n",
        "for inputs, labels in val_ds:\n",
        "    # Get predictions from the model\n",
        "    logits = model.predict(inputs)\n",
        "    predictions = np.argmax(logits, axis=1)\n",
        "\n",
        "    # Append true labels and predictions\n",
        "    y_true.extend(labels.numpy())\n",
        "    y_pred.extend(predictions)\n",
        "\n",
        "# Calculate macro F1 score\n",
        "f1 = f1_score(y_true, y_pred, average='macro')\n",
        "print(\"Macro F1 Score:\", f1)"
      ],
      "metadata": {
        "colab": {
          "base_uri": "https://localhost:8080/"
        },
        "id": "mKvqJhURpP95",
        "outputId": "a8b0cbcb-151e-4b58-9662-641babbab620"
      },
      "execution_count": null,
      "outputs": [
        {
          "output_type": "stream",
          "name": "stdout",
          "text": [
            "2/2 [==============================] - 3s 252ms/step\n",
            "2/2 [==============================] - 0s 221ms/step\n",
            "2/2 [==============================] - 0s 215ms/step\n",
            "2/2 [==============================] - 0s 227ms/step\n",
            "2/2 [==============================] - 0s 221ms/step\n",
            "2/2 [==============================] - 0s 193ms/step\n",
            "2/2 [==============================] - 0s 222ms/step\n",
            "2/2 [==============================] - 0s 266ms/step\n",
            "2/2 [==============================] - 0s 216ms/step\n",
            "2/2 [==============================] - 0s 215ms/step\n",
            "2/2 [==============================] - 0s 282ms/step\n",
            "2/2 [==============================] - 0s 228ms/step\n",
            "2/2 [==============================] - 0s 220ms/step\n",
            "2/2 [==============================] - 0s 232ms/step\n",
            "2/2 [==============================] - 0s 219ms/step\n",
            "1/1 [==============================] - 4s 4s/step\n",
            "Macro F1 Score: 0.5344453513468898\n"
          ]
        }
      ]
    },
    {
      "cell_type": "code",
      "source": [
        "from sklearn.metrics import f1_score\n",
        "import numpy as np\n",
        "\n",
        "# Get true labels and predictions for the validation dataset\n",
        "y_true = []\n",
        "y_pred = []\n",
        "val_ids = []\n",
        "\n",
        "# Get the original validation data to extract comment IDs\n",
        "val_df_original = train_df.iloc[round(DS_LEN*SPLIT) * 64:] # Assuming batch size is 64\n",
        "\n",
        "for inputs, labels in val_ds:\n",
        "    # Get predictions from the model\n",
        "    logits = model.predict(inputs)\n",
        "    predictions = np.argmax(logits, axis=1)\n",
        "\n",
        "    # Append true labels and predictions\n",
        "    y_true.extend(labels.numpy())\n",
        "    y_pred.extend(predictions)\n",
        "\n",
        "# Calculate macro F1 score\n",
        "f1 = f1_score(y_true, y_pred, average='macro')\n",
        "print(\"Macro F1 Score:\", f1)\n",
        "\n",
        "# Convert predicted labels back to string labels\n",
        "reverse_label_map = {i: label for label, i in label_map.items()}\n",
        "predicted_labels = [reverse_label_map[pred] for pred in y_pred]\n",
        "\n",
        "# Create a DataFrame for the submission file\n",
        "submission_df = pd.DataFrame({'id_comment': val_df_original['id_comment'].values[:len(predicted_labels)], 'label': predicted_labels})\n",
        "\n",
        "# Save the DataFrame to a CSV file\n",
        "submission_df.to_csv('validation_predictions.csv', index=False)\n",
        "\n",
        "print(\"Validation predictions saved to validation_predictions.csv\")"
      ],
      "metadata": {
        "colab": {
          "base_uri": "https://localhost:8080/"
        },
        "id": "8HqVEqpcpSP1",
        "outputId": "2de7a69e-4e7b-4742-b5b1-de44aeaf937f"
      },
      "execution_count": null,
      "outputs": [
        {
          "output_type": "stream",
          "name": "stdout",
          "text": [
            "2/2 [==============================] - 0s 293ms/step\n",
            "2/2 [==============================] - 0s 223ms/step\n",
            "2/2 [==============================] - 0s 307ms/step\n",
            "2/2 [==============================] - 0s 177ms/step\n",
            "2/2 [==============================] - 0s 183ms/step\n",
            "2/2 [==============================] - 0s 205ms/step\n",
            "2/2 [==============================] - 0s 266ms/step\n",
            "2/2 [==============================] - 0s 217ms/step\n",
            "2/2 [==============================] - 0s 221ms/step\n",
            "2/2 [==============================] - 0s 217ms/step\n",
            "2/2 [==============================] - 0s 215ms/step\n",
            "2/2 [==============================] - 0s 214ms/step\n",
            "2/2 [==============================] - 0s 220ms/step\n",
            "2/2 [==============================] - 0s 215ms/step\n",
            "2/2 [==============================] - 0s 218ms/step\n",
            "1/1 [==============================] - 0s 203ms/step\n",
            "Macro F1 Score: 0.5083611687017597\n",
            "Validation predictions saved to validation_predictions.csv\n"
          ]
        }
      ]
    },
    {
      "cell_type": "markdown",
      "source": [
        "# MULTILINGUAL"
      ],
      "metadata": {
        "id": "dmXBYIA5qHo-"
      }
    },
    {
      "cell_type": "code",
      "source": [
        "import pandas as pd\n",
        "import numpy as np\n",
        "import matplotlib.pyplot as plt"
      ],
      "metadata": {
        "id": "eV9zfGrmxZXb"
      },
      "execution_count": null,
      "outputs": []
    },
    {
      "cell_type": "code",
      "source": [
        "!pip install -q transformers"
      ],
      "metadata": {
        "id": "VUrveK17xYTB"
      },
      "execution_count": null,
      "outputs": []
    },
    {
      "cell_type": "code",
      "source": [
        "train_df2 = pd.read_csv('train.csv')\n",
        "test_df2 = pd.read_csv('test.csv')"
      ],
      "metadata": {
        "id": "uD8ruCFDp4Gt"
      },
      "execution_count": null,
      "outputs": []
    },
    {
      "cell_type": "code",
      "source": [
        "textlen = train_df2['text'].apply(lambda x: len(x.split()))"
      ],
      "metadata": {
        "id": "HI0-JGDoqVbu"
      },
      "execution_count": null,
      "outputs": []
    },
    {
      "cell_type": "code",
      "source": [
        "import seaborn as sns\n",
        "plt.figure(figsize=(8,5))\n",
        "plt.hist(textlen, edgecolor = \"black\");"
      ],
      "metadata": {
        "colab": {
          "base_uri": "https://localhost:8080/",
          "height": 410
        },
        "id": "RnQ6u1P5qd0y",
        "outputId": "597ea7c5-b853-404d-9e1d-16d9dddeebc1"
      },
      "execution_count": null,
      "outputs": [
        {
          "output_type": "display_data",
          "data": {
            "text/plain": [
              "<Figure size 800x500 with 1 Axes>"
            ],
            "image/png": "[encoded data removed]"
          },
          "metadata": {}
        }
      ]
    },
    {
      "cell_type": "code",
      "source": [
        "SEQ_LEN = 100"
      ],
      "metadata": {
        "id": "C2zGONbPqtmk"
      },
      "execution_count": null,
      "outputs": []
    },
    {
      "cell_type": "code",
      "source": [
        "from transformers import BertTokenizer\n",
        "\n",
        "# Ini akan mengunduh semua file ke cache lokal\n",
        "tokenizer = BertTokenizer.from_pretrained('bert-base-multilingual-cased', do_lower_case=True)"
      ],
      "metadata": {
        "id": "Ibs9HGFXquuv"
      },
      "execution_count": null,
      "outputs": []
    },
    {
      "cell_type": "code",
      "source": [
        "from transformers import BertTokenizer\n",
        "import os\n",
        "\n",
        "# Ganti 'path/ke/folder/model' dengan lokasi folder di komputer Anda\n",
        "local_model_path = \"bert-base-multilingual-cased\"\n",
        "\n",
        "if os.path.isdir(local_model_path):\n",
        "    tokenizer = BertTokenizer.from_pretrained(local_model_path, do_lower_case=True)\n",
        "else:\n",
        "    print(f\"Error: Folder '{local_model_path}' tidak ditemukan.\")"
      ],
      "metadata": {
        "id": "Bc5ZQYTT2AP-"
      },
      "execution_count": null,
      "outputs": []
    },
    {
      "cell_type": "code",
      "source": [
        "# download the tokenizer\n",
        "task = \"sentiment\"\n",
        "tokenizer = BertTokenizer.from_pretrained('bert-base-multilingual-cased', do_lower_case=True)"
      ],
      "metadata": {
        "id": "nCscsPtd2CKK"
      },
      "execution_count": null,
      "outputs": []
    },
    {
      "cell_type": "code",
      "source": [
        "# Preprocess text (username and link placeholders)\n",
        "def preprocess(text):\n",
        "    new_text = []\n",
        "\n",
        "    for t in text.split(\" \"):\n",
        "        t = '' if t.startswith('@') and len(t) > 1 else t\n",
        "        t = '' if t.startswith('http') else t\n",
        "        t = t.replace(\"#\",\"\")\n",
        "        new_text.append(t.lower())\n",
        "    return \" \".join(new_text).strip().replace(\"  \", \" \")"
      ],
      "metadata": {
        "id": "VeiL4sjn2TJd"
      },
      "execution_count": null,
      "outputs": []
    },
    {
      "cell_type": "code",
      "source": [
        "train_df2['text'] = train_df2['text'].apply(preprocess)\n",
        "train_df2.head()"
      ],
      "metadata": {
        "colab": {
          "base_uri": "https://localhost:8080/",
          "height": 241
        },
        "id": "Z5LQneJV2aVN",
        "outputId": "3264d000-0cdb-4c4b-dd6c-b2ff440aa18f"
      },
      "execution_count": null,
      "outputs": [
        {
          "output_type": "execute_result",
          "data": {
            "text/plain": [
              "  id_comment       source                                               text  \\\n",
              "0    UID0000    Instagram  makin dewasa makin sadar bahwa taktik pemerint...   \n",
              "1    UID0001  X / Twitter  membuktikan hal yg benar di pengadilan itu mmg...   \n",
              "2    UID0002    Instagram                      rip keadilan di indonesia 🥀🥀🥀   \n",
              "3    UID0003    Instagram  dengan adanya pinjol, judol dan para rentenir ...   \n",
              "4    UID0004    Instagram                                 negri morat marit🥀   \n",
              "\n",
              "     label  \n",
              "0  SADNESS  \n",
              "1    ANGER  \n",
              "2  SADNESS  \n",
              "3    ANGER  \n",
              "4  SADNESS  "
            ],
            "text/html": [
              "\n",
              "  <div id=\"df-f0453222-eb00-454d-a2f3-bd345962c497\" class=\"colab-df-container\">\n",
              "    <div>\n",
              "<style scoped>\n",
              "    .dataframe tbody tr th:only-of-type {\n",
              "        vertical-align: middle;\n",
              "    }\n",
              "\n",
              "    .dataframe tbody tr th {\n",
              "        vertical-align: top;\n",
              "    }\n",
              "\n",
              "    .dataframe thead th {\n",
              "        text-align: right;\n",
              "    }\n",
              "</style>\n",
              "<table border=\"1\" class=\"dataframe\">\n",
              "  <thead>\n",
              "    <tr style=\"text-align: right;\">\n",
              "      <th></th>\n",
              "      <th>id_comment</th>\n",
              "      <th>source</th>\n",
              "      <th>text</th>\n",
              "      <th>label</th>\n",
              "    </tr>\n",
              "  </thead>\n",
              "  <tbody>\n",
              "    <tr>\n",
              "      <th>0</th>\n",
              "      <td>UID0000</td>\n",
              "      <td>Instagram</td>\n",
              "      <td>makin dewasa makin sadar bahwa taktik pemerint...</td>\n",
              "      <td>SADNESS</td>\n",
              "    </tr>\n",
              "    <tr>\n",
              "      <th>1</th>\n",
              "      <td>UID0001</td>\n",
              "      <td>X / Twitter</td>\n",
              "      <td>membuktikan hal yg benar di pengadilan itu mmg...</td>\n",
              "      <td>ANGER</td>\n",
              "    </tr>\n",
              "    <tr>\n",
              "      <th>2</th>\n",
              "      <td>UID0002</td>\n",
              "      <td>Instagram</td>\n",
              "      <td>rip keadilan di indonesia 🥀🥀🥀</td>\n",
              "      <td>SADNESS</td>\n",
              "    </tr>\n",
              "    <tr>\n",
              "      <th>3</th>\n",
              "      <td>UID0003</td>\n",
              "      <td>Instagram</td>\n",
              "      <td>dengan adanya pinjol, judol dan para rentenir ...</td>\n",
              "      <td>ANGER</td>\n",
              "    </tr>\n",
              "    <tr>\n",
              "      <th>4</th>\n",
              "      <td>UID0004</td>\n",
              "      <td>Instagram</td>\n",
              "      <td>negri morat marit🥀</td>\n",
              "      <td>SADNESS</td>\n",
              "    </tr>\n",
              "  </tbody>\n",
              "</table>\n",
              "</div>\n",
              "    <div class=\"colab-df-buttons\">\n",
              "\n",
              "  <div class=\"colab-df-container\">\n",
              "    <button class=\"colab-df-convert\" onclick=\"convertToInteractive('df-f0453222-eb00-454d-a2f3-bd345962c497')\"\n",
              "            title=\"Convert this dataframe to an interactive table.\"\n",
              "            style=\"display:none;\">\n",
              "\n",
              "  <svg xmlns=\"http://www.w3.org/2000/svg\" height=\"24px\" viewBox=\"0 -960 960 960\">\n",
              "    <path d=\"M120-120v-720h720v720H120Zm60-500h600v-160H180v160Zm220 220h160v-160H400v160Zm0 220h160v-160H400v160ZM180-400h160v-160H180v160Zm440 0h160v-160H620v160ZM180-180h160v-160H180v160Zm440 0h160v-160H620v160Z\"/>\n",
              "  </svg>\n",
              "    </button>\n",
              "\n",
              "  <style>\n",
              "    .colab-df-container {\n",
              "      display:flex;\n",
              "      gap: 12px;\n",
              "    }\n",
              "\n",
              "    .colab-df-convert {\n",
              "      background-color: #E8F0FE;\n",
              "      border: none;\n",
              "      border-radius: 50%;\n",
              "      cursor: pointer;\n",
              "      display: none;\n",
              "      fill: #1967D2;\n",
              "      height: 32px;\n",
              "      padding: 0 0 0 0;\n",
              "      width: 32px;\n",
              "    }\n",
              "\n",
              "    .colab-df-convert:hover {\n",
              "      background-color: #E2EBFA;\n",
              "      box-shadow: 0px 1px 2px rgba(60, 64, 67, 0.3), 0px 1px 3px 1px rgba(60, 64, 67, 0.15);\n",
              "      fill: #174EA6;\n",
              "    }\n",
              "\n",
              "    .colab-df-buttons div {\n",
              "      margin-bottom: 4px;\n",
              "    }\n",
              "\n",
              "    [theme=dark] .colab-df-convert {\n",
              "      background-color: #3B4455;\n",
              "      fill: #D2E3FC;\n",
              "    }\n",
              "\n",
              "    [theme=dark] .colab-df-convert:hover {\n",
              "      background-color: #434B5C;\n",
              "      box-shadow: 0px 1px 3px 1px rgba(0, 0, 0, 0.15);\n",
              "      filter: drop-shadow(0px 1px 2px rgba(0, 0, 0, 0.3));\n",
              "      fill: #FFFFFF;\n",
              "    }\n",
              "  </style>\n",
              "\n",
              "    <script>\n",
              "      const buttonEl =\n",
              "        document.querySelector('#df-f0453222-eb00-454d-a2f3-bd345962c497 button.colab-df-convert');\n",
              "      buttonEl.style.display =\n",
              "        google.colab.kernel.accessAllowed ? 'block' : 'none';\n",
              "\n",
              "      async function convertToInteractive(key) {\n",
              "        const element = document.querySelector('#df-f0453222-eb00-454d-a2f3-bd345962c497');\n",
              "        const dataTable =\n",
              "          await google.colab.kernel.invokeFunction('convertToInteractive',\n",
              "                                                    [key], {});\n",
              "        if (!dataTable) return;\n",
              "\n",
              "        const docLinkHtml = 'Like what you see? Visit the ' +\n",
              "          '<a target=\"_blank\" href=https://colab.research.google.com/notebooks/data_table.ipynb>data table notebook</a>'\n",
              "          + ' to learn more about interactive tables.';\n",
              "        element.innerHTML = '';\n",
              "        dataTable['output_type'] = 'display_data';\n",
              "        await google.colab.output.renderOutput(dataTable, element);\n",
              "        const docLink = document.createElement('div');\n",
              "        docLink.innerHTML = docLinkHtml;\n",
              "        element.appendChild(docLink);\n",
              "      }\n",
              "    </script>\n",
              "  </div>\n",
              "\n",
              "\n",
              "    <div id=\"df-bf9d8f9f-8f5e-45c2-ad8f-39127f212c82\">\n",
              "      <button class=\"colab-df-quickchart\" onclick=\"quickchart('df-bf9d8f9f-8f5e-45c2-ad8f-39127f212c82')\"\n",
              "                title=\"Suggest charts\"\n",
              "                style=\"display:none;\">\n",
              "\n",
              "<svg xmlns=\"http://www.w3.org/2000/svg\" height=\"24px\"viewBox=\"0 0 24 24\"\n",
              "     width=\"24px\">\n",
              "    <g>\n",
              "        <path d=\"M19 3H5c-1.1 0-2 .9-2 2v14c0 1.1.9 2 2 2h14c1.1 0 2-.9 2-2V5c0-1.1-.9-2-2-2zM9 17H7v-7h2v7zm4 0h-2V7h2v10zm4 0h-2v-4h2v4z\"/>\n",
              "    </g>\n",
              "</svg>\n",
              "      </button>\n",
              "\n",
              "<style>\n",
              "  .colab-df-quickchart {\n",
              "      --bg-color: #E8F0FE;\n",
              "      --fill-color: #1967D2;\n",
              "      --hover-bg-color: #E2EBFA;\n",
              "      --hover-fill-color: #174EA6;\n",
              "      --disabled-fill-color: #AAA;\n",
              "      --disabled-bg-color: #DDD;\n",
              "  }\n",
              "\n",
              "  [theme=dark] .colab-df-quickchart {\n",
              "      --bg-color: #3B4455;\n",
              "      --fill-color: #D2E3FC;\n",
              "      --hover-bg-color: #434B5C;\n",
              "      --hover-fill-color: #FFFFFF;\n",
              "      --disabled-bg-color: #3B4455;\n",
              "      --disabled-fill-color: #666;\n",
              "  }\n",
              "\n",
              "  .colab-df-quickchart {\n",
              "    background-color: var(--bg-color);\n",
              "    border: none;\n",
              "    border-radius: 50%;\n",
              "    cursor: pointer;\n",
              "    display: none;\n",
              "    fill: var(--fill-color);\n",
              "    height: 32px;\n",
              "    padding: 0;\n",
              "    width: 32px;\n",
              "  }\n",
              "\n",
              "  .colab-df-quickchart:hover {\n",
              "    background-color: var(--hover-bg-color);\n",
              "    box-shadow: 0 1px 2px rgba(60, 64, 67, 0.3), 0 1px 3px 1px rgba(60, 64, 67, 0.15);\n",
              "    fill: var(--button-hover-fill-color);\n",
              "  }\n",
              "\n",
              "  .colab-df-quickchart-complete:disabled,\n",
              "  .colab-df-quickchart-complete:disabled:hover {\n",
              "    background-color: var(--disabled-bg-color);\n",
              "    fill: var(--disabled-fill-color);\n",
              "    box-shadow: none;\n",
              "  }\n",
              "\n",
              "  .colab-df-spinner {\n",
              "    border: 2px solid var(--fill-color);\n",
              "    border-color: transparent;\n",
              "    border-bottom-color: var(--fill-color);\n",
              "    animation:\n",
              "      spin 1s steps(1) infinite;\n",
              "  }\n",
              "\n",
              "  @keyframes spin {\n",
              "    0% {\n",
              "      border-color: transparent;\n",
              "      border-bottom-color: var(--fill-color);\n",
              "      border-left-color: var(--fill-color);\n",
              "    }\n",
              "    20% {\n",
              "      border-color: transparent;\n",
              "      border-left-color: var(--fill-color);\n",
              "      border-top-color: var(--fill-color);\n",
              "    }\n",
              "    30% {\n",
              "      border-color: transparent;\n",
              "      border-left-color: var(--fill-color);\n",
              "      border-top-color: var(--fill-color);\n",
              "      border-right-color: var(--fill-color);\n",
              "    }\n",
              "    40% {\n",
              "      border-color: transparent;\n",
              "      border-right-color: var(--fill-color);\n",
              "      border-top-color: var(--fill-color);\n",
              "    }\n",
              "    60% {\n",
              "      border-color: transparent;\n",
              "      border-right-color: var(--fill-color);\n",
              "    }\n",
              "    80% {\n",
              "      border-color: transparent;\n",
              "      border-right-color: var(--fill-color);\n",
              "      border-bottom-color: var(--fill-color);\n",
              "    }\n",
              "    90% {\n",
              "      border-color: transparent;\n",
              "      border-bottom-color: var(--fill-color);\n",
              "    }\n",
              "  }\n",
              "</style>\n",
              "\n",
              "      <script>\n",
              "        async function quickchart(key) {\n",
              "          const quickchartButtonEl =\n",
              "            document.querySelector('#' + key + ' button');\n",
              "          quickchartButtonEl.disabled = true;  // To prevent multiple clicks.\n",
              "          quickchartButtonEl.classList.add('colab-df-spinner');\n",
              "          try {\n",
              "            const charts = await google.colab.kernel.invokeFunction(\n",
              "                'suggestCharts', [key], {});\n",
              "          } catch (error) {\n",
              "            console.error('Error during call to suggestCharts:', error);\n",
              "          }\n",
              "          quickchartButtonEl.classList.remove('colab-df-spinner');\n",
              "          quickchartButtonEl.classList.add('colab-df-quickchart-complete');\n",
              "        }\n",
              "        (() => {\n",
              "          let quickchartButtonEl =\n",
              "            document.querySelector('#df-bf9d8f9f-8f5e-45c2-ad8f-39127f212c82 button');\n",
              "          quickchartButtonEl.style.display =\n",
              "            google.colab.kernel.accessAllowed ? 'block' : 'none';\n",
              "        })();\n",
              "      </script>\n",
              "    </div>\n",
              "\n",
              "    </div>\n",
              "  </div>\n"
            ],
            "application/vnd.google.colaboratory.intrinsic+json": {
              "type": "dataframe",
              "variable_name": "train_df2",
              "summary": "{\n  \"name\": \"train_df2\",\n  \"rows\": 5083,\n  \"fields\": [\n    {\n      \"column\": \"id_comment\",\n      \"properties\": {\n        \"dtype\": \"string\",\n        \"num_unique_values\": 5083,\n        \"samples\": [\n          \"UID2700\",\n          \"UID2588\",\n          \"UID2997\"\n        ],\n        \"semantic_type\": \"\",\n        \"description\": \"\"\n      }\n    },\n    {\n      \"column\": \"source\",\n      \"properties\": {\n        \"dtype\": \"category\",\n        \"num_unique_values\": 2,\n        \"samples\": [\n          \"X / Twitter\",\n          \"Instagram\"\n        ],\n        \"semantic_type\": \"\",\n        \"description\": \"\"\n      }\n    },\n    {\n      \"column\": \"text\",\n      \"properties\": {\n        \"dtype\": \"string\",\n        \"num_unique_values\": 5064,\n        \"samples\": [\n          \"pak tom \\ud83d\\udcaa\\ud83d\\udcaa we pround of you pak..\",\n          \"kejauhan lah bro ngomong neraka mereka oknum hakim itu sudah disumpah dg kitab sucinya masing2 artinya apa tuhan aja mereka gak takut kok apalagi nerakanya, mereka berfikir hidup didunia ini 1000 th lamanya padahal masuk usia 80 masih sehat aja udah untung...\"\n        ],\n        \"semantic_type\": \"\",\n        \"description\": \"\"\n      }\n    },\n    {\n      \"column\": \"label\",\n      \"properties\": {\n        \"dtype\": \"category\",\n        \"num_unique_values\": 5,\n        \"samples\": [\n          \"ANGER\",\n          \"DISAPPOINTMENT\"\n        ],\n        \"semantic_type\": \"\",\n        \"description\": \"\"\n      }\n    }\n  ]\n}"
            }
          },
          "metadata": {},
          "execution_count": 13
        }
      ]
    },
    {
      "cell_type": "code",
      "source": [
        "# example of tokenization\n",
        "tokenized_text = train_df2['text'].apply(tokenizer.tokenize)\n",
        "display(tokenized_text.head())"
      ],
      "metadata": {
        "colab": {
          "base_uri": "https://localhost:8080/",
          "height": 241
        },
        "id": "olrVjcpk2cx1",
        "outputId": "92da80cc-e800-4aac-bbd1-9c134d8462e1"
      },
      "execution_count": null,
      "outputs": [
        {
          "output_type": "display_data",
          "data": {
            "text/plain": [
              "0    [maki, ##n, dewasa, maki, ##n, sada, ##r, bahw...\n",
              "1    [mem, ##buk, ##tikan, hal, yg, benar, di, peng...\n",
              "2            [rip, ke, ##adilan, di, indonesia, [UNK]]\n",
              "3    [dengan, adanya, pin, ##jol, ,, judo, ##l, dan...\n",
              "4                            [negri, mora, ##t, [UNK]]\n",
              "Name: text, dtype: object"
            ],
            "text/html": [
              "<div>\n",
              "<style scoped>\n",
              "    .dataframe tbody tr th:only-of-type {\n",
              "        vertical-align: middle;\n",
              "    }\n",
              "\n",
              "    .dataframe tbody tr th {\n",
              "        vertical-align: top;\n",
              "    }\n",
              "\n",
              "    .dataframe thead th {\n",
              "        text-align: right;\n",
              "    }\n",
              "</style>\n",
              "<table border=\"1\" class=\"dataframe\">\n",
              "  <thead>\n",
              "    <tr style=\"text-align: right;\">\n",
              "      <th></th>\n",
              "      <th>text</th>\n",
              "    </tr>\n",
              "  </thead>\n",
              "  <tbody>\n",
              "    <tr>\n",
              "      <th>0</th>\n",
              "      <td>[maki, ##n, dewasa, maki, ##n, sada, ##r, bahw...</td>\n",
              "    </tr>\n",
              "    <tr>\n",
              "      <th>1</th>\n",
              "      <td>[mem, ##buk, ##tikan, hal, yg, benar, di, peng...</td>\n",
              "    </tr>\n",
              "    <tr>\n",
              "      <th>2</th>\n",
              "      <td>[rip, ke, ##adilan, di, indonesia, [UNK]]</td>\n",
              "    </tr>\n",
              "    <tr>\n",
              "      <th>3</th>\n",
              "      <td>[dengan, adanya, pin, ##jol, ,, judo, ##l, dan...</td>\n",
              "    </tr>\n",
              "    <tr>\n",
              "      <th>4</th>\n",
              "      <td>[negri, mora, ##t, [UNK]]</td>\n",
              "    </tr>\n",
              "  </tbody>\n",
              "</table>\n",
              "</div><br><label><b>dtype:</b> object</label>"
            ]
          },
          "metadata": {}
        }
      ]
    },
    {
      "cell_type": "code",
      "source": [
        "# example of an output from encoded text by tokeneizer\n",
        "encoded_input = tokenizer(train_df2['text'].iloc[0], return_tensors='pt')\n",
        "print(encoded_input)"
      ],
      "metadata": {
        "colab": {
          "base_uri": "https://localhost:8080/"
        },
        "id": "N4hlnFSa2jrh",
        "outputId": "d6a6fb30-94a5-4010-8173-f5604d68e46b"
      },
      "execution_count": null,
      "outputs": [
        {
          "output_type": "stream",
          "name": "stdout",
          "text": [
            "{'input_ids': tensor([[  101, 89138, 10115, 27172, 89138, 10115, 34715, 10131, 15170, 68408,\n",
            "         11017, 28732, 16929, 17879, 20170,   100,   102]]), 'token_type_ids': tensor([[0, 0, 0, 0, 0, 0, 0, 0, 0, 0, 0, 0, 0, 0, 0, 0, 0]]), 'attention_mask': tensor([[1, 1, 1, 1, 1, 1, 1, 1, 1, 1, 1, 1, 1, 1, 1, 1, 1]])}\n"
          ]
        }
      ]
    },
    {
      "cell_type": "code",
      "source": [
        "tokenizer.decode(encoded_input['input_ids'][0])"
      ],
      "metadata": {
        "colab": {
          "base_uri": "https://localhost:8080/",
          "height": 53
        },
        "id": "VEgZn2Ps2x1S",
        "outputId": "a0faa0ca-b583-4421-c3f8-b3019bba6d80"
      },
      "execution_count": null,
      "outputs": [
        {
          "output_type": "execute_result",
          "data": {
            "text/plain": [
              "'[CLS] makin dewasa makin sadar bahwa taktik pemerintah semengerikan [UNK] [SEP]'"
            ],
            "application/vnd.google.colaboratory.intrinsic+json": {
              "type": "string"
            }
          },
          "metadata": {},
          "execution_count": 16
        }
      ]
    },
    {
      "cell_type": "code",
      "source": [
        "# encoding the training data\n",
        "train_encoded_inputs = tokenizer(train_df2['text'].tolist(),\n",
        "                                 add_special_tokens = True,\n",
        "                                 padding='max_length',\n",
        "                                 truncation=True,\n",
        "                                 max_length=SEQ_LEN,\n",
        "                                 return_token_type_ids=False,\n",
        "                                 return_tensors = 'tf')"
      ],
      "metadata": {
        "colab": {
          "base_uri": "https://localhost:8080/"
        },
        "id": "HvyzU1ek20V_",
        "outputId": "17e0cbde-639d-43f5-8016-fe04ac612b9f"
      },
      "execution_count": null,
      "outputs": [
        {
          "output_type": "stream",
          "name": "stderr",
          "text": [
            "TensorFlow and JAX classes are deprecated and will be removed in Transformers v5. We recommend migrating to PyTorch classes or pinning your version of Transformers.\n"
          ]
        }
      ]
    },
    {
      "cell_type": "code",
      "source": [
        "train_encoded_inputs"
      ],
      "metadata": {
        "colab": {
          "base_uri": "https://localhost:8080/"
        },
        "id": "7lMQSPxl24oc",
        "outputId": "19612dfb-16f9-42d7-c875-697b1f8ec00e"
      },
      "execution_count": null,
      "outputs": [
        {
          "output_type": "execute_result",
          "data": {
            "text/plain": [
              "{'input_ids': <tf.Tensor: shape=(5083, 100), dtype=int32, numpy=\n",
              "array([[  101, 89138, 10115, ...,     0,     0,     0],\n",
              "       [  101, 26222, 59015, ...,     0,     0,     0],\n",
              "       [  101, 78078, 11009, ...,     0,     0,     0],\n",
              "       ...,\n",
              "       [  101,   100, 49726, ...,     0,     0,     0],\n",
              "       [  101, 10128, 20452, ...,     0,     0,     0],\n",
              "       [  101, 65460, 10123, ...,     0,     0,     0]], dtype=int32)>, 'attention_mask': <tf.Tensor: shape=(5083, 100), dtype=int32, numpy=\n",
              "array([[1, 1, 1, ..., 0, 0, 0],\n",
              "       [1, 1, 1, ..., 0, 0, 0],\n",
              "       [1, 1, 1, ..., 0, 0, 0],\n",
              "       ...,\n",
              "       [1, 1, 1, ..., 0, 0, 0],\n",
              "       [1, 1, 1, ..., 0, 0, 0],\n",
              "       [1, 1, 1, ..., 0, 0, 0]], dtype=int32)>}"
            ]
          },
          "metadata": {},
          "execution_count": 18
        }
      ]
    },
    {
      "cell_type": "code",
      "source": [
        "# Map string labels to integers\n",
        "import tensorflow as tf\n",
        "label_map = {label: i for i, label in enumerate(train_df2['label'].unique())}\n",
        "train_df2['label_encoded'] = train_df2['label'].map(label_map)\n",
        "\n",
        "train_dataset = tf.data.Dataset.from_tensor_slices((train_encoded_inputs, train_df2['label_encoded'].values))"
      ],
      "metadata": {
        "id": "YiP1OTkt27LB"
      },
      "execution_count": null,
      "outputs": []
    },
    {
      "cell_type": "code",
      "source": [
        "# formatting the data as required by bert model\n",
        "def map_bert(inputs, labels):\n",
        "  inputs = {'input_ids': inputs['input_ids'],\n",
        "            'attention_mask': inputs['attention_mask']}\n",
        "\n",
        "  return inputs, labels"
      ],
      "metadata": {
        "id": "FUp1Xs5V29N-"
      },
      "execution_count": null,
      "outputs": []
    },
    {
      "cell_type": "code",
      "source": [
        "train_dataset = train_dataset.map(map_bert)"
      ],
      "metadata": {
        "id": "bO3hte-J3svr"
      },
      "execution_count": null,
      "outputs": []
    },
    {
      "cell_type": "code",
      "source": [
        "for t in train_dataset.take(2):\n",
        "  print (t)"
      ],
      "metadata": {
        "colab": {
          "base_uri": "https://localhost:8080/"
        },
        "id": "YYZz2tsE3vf7",
        "outputId": "10dd863e-3aa6-4bcf-e7e1-f7ae4c406c28"
      },
      "execution_count": null,
      "outputs": [
        {
          "output_type": "stream",
          "name": "stdout",
          "text": [
            "({'input_ids': <tf.Tensor: shape=(100,), dtype=int32, numpy=\n",
            "array([  101, 89138, 10115, 27172, 89138, 10115, 34715, 10131, 15170,\n",
            "       68408, 11017, 28732, 16929, 17879, 20170,   100,   102,     0,\n",
            "           0,     0,     0,     0,     0,     0,     0,     0,     0,\n",
            "           0,     0,     0,     0,     0,     0,     0,     0,     0,\n",
            "           0,     0,     0,     0,     0,     0,     0,     0,     0,\n",
            "           0,     0,     0,     0,     0,     0,     0,     0,     0,\n",
            "           0,     0,     0,     0,     0,     0,     0,     0,     0,\n",
            "           0,     0,     0,     0,     0,     0,     0,     0,     0,\n",
            "           0,     0,     0,     0,     0,     0,     0,     0,     0,\n",
            "           0,     0,     0,     0,     0,     0,     0,     0,     0,\n",
            "           0,     0,     0,     0,     0,     0,     0,     0,     0,\n",
            "           0], dtype=int32)>, 'attention_mask': <tf.Tensor: shape=(100,), dtype=int32, numpy=\n",
            "array([1, 1, 1, 1, 1, 1, 1, 1, 1, 1, 1, 1, 1, 1, 1, 1, 1, 0, 0, 0, 0, 0,\n",
            "       0, 0, 0, 0, 0, 0, 0, 0, 0, 0, 0, 0, 0, 0, 0, 0, 0, 0, 0, 0, 0, 0,\n",
            "       0, 0, 0, 0, 0, 0, 0, 0, 0, 0, 0, 0, 0, 0, 0, 0, 0, 0, 0, 0, 0, 0,\n",
            "       0, 0, 0, 0, 0, 0, 0, 0, 0, 0, 0, 0, 0, 0, 0, 0, 0, 0, 0, 0, 0, 0,\n",
            "       0, 0, 0, 0, 0, 0, 0, 0, 0, 0, 0, 0], dtype=int32)>}, <tf.Tensor: shape=(), dtype=int64, numpy=0>)\n",
            "({'input_ids': <tf.Tensor: shape=(100,), dtype=int32, numpy=\n",
            "array([  101, 26222, 59015, 92932, 15551, 95759, 49494, 10120, 79112,\n",
            "       71362, 12068, 10389, 10251, 12228, 16549, 10243,   119, 35029,\n",
            "       15749, 10243,   117, 11010, 90451, 15969, 11956, 93656, 50831,\n",
            "       60791, 27926, 47392, 11128, 33722, 65734,   129, 10371,   119,\n",
            "       23577, 20451, 10562, 14043, 16777, 10243, 17349, 10122, 12239,\n",
            "       10822, 65305, 10159,   156, 64560, 12255, 12255, 12228, 21624,\n",
            "       10167,   117, 14496, 10370, 10507, 20141, 54102, 80044, 24148,\n",
            "       71362,   100,   102,     0,     0,     0,     0,     0,     0,\n",
            "           0,     0,     0,     0,     0,     0,     0,     0,     0,\n",
            "           0,     0,     0,     0,     0,     0,     0,     0,     0,\n",
            "           0,     0,     0,     0,     0,     0,     0,     0,     0,\n",
            "           0], dtype=int32)>, 'attention_mask': <tf.Tensor: shape=(100,), dtype=int32, numpy=\n",
            "array([1, 1, 1, 1, 1, 1, 1, 1, 1, 1, 1, 1, 1, 1, 1, 1, 1, 1, 1, 1, 1, 1,\n",
            "       1, 1, 1, 1, 1, 1, 1, 1, 1, 1, 1, 1, 1, 1, 1, 1, 1, 1, 1, 1, 1, 1,\n",
            "       1, 1, 1, 1, 1, 1, 1, 1, 1, 1, 1, 1, 1, 1, 1, 1, 1, 1, 1, 1, 1, 1,\n",
            "       0, 0, 0, 0, 0, 0, 0, 0, 0, 0, 0, 0, 0, 0, 0, 0, 0, 0, 0, 0, 0, 0,\n",
            "       0, 0, 0, 0, 0, 0, 0, 0, 0, 0, 0, 0], dtype=int32)>}, <tf.Tensor: shape=(), dtype=int64, numpy=1>)\n"
          ]
        }
      ]
    },
    {
      "cell_type": "code",
      "source": [
        "dataset = train_dataset.shuffle(100000).batch(64)"
      ],
      "metadata": {
        "id": "kQBKLx653xcH"
      },
      "execution_count": null,
      "outputs": []
    },
    {
      "cell_type": "code",
      "source": [
        "# length of the dataset(total batches)\n",
        "DS_LEN = len(dataset)\n",
        "DS_LEN"
      ],
      "metadata": {
        "colab": {
          "base_uri": "https://localhost:8080/"
        },
        "id": "7X3aT8t530Eg",
        "outputId": "750c6f87-3feb-44f4-c2ab-04607c1b6c41"
      },
      "execution_count": null,
      "outputs": [
        {
          "output_type": "execute_result",
          "data": {
            "text/plain": [
              "80"
            ]
          },
          "metadata": {},
          "execution_count": 31
        }
      ]
    },
    {
      "cell_type": "code",
      "source": [
        "# take 80% for train and 20% for validation\n",
        "SPLIT = 0.8\n",
        "train_ds = dataset.take(round(DS_LEN*SPLIT))\n",
        "val_ds = dataset.skip(round(DS_LEN*SPLIT))"
      ],
      "metadata": {
        "id": "l-VuXdhb308a"
      },
      "execution_count": null,
      "outputs": []
    },
    {
      "cell_type": "code",
      "source": [
        "from transformers import TFAutoModel"
      ],
      "metadata": {
        "id": "238weu6J34d3"
      },
      "execution_count": null,
      "outputs": []
    },
    {
      "cell_type": "code",
      "source": [
        "bert_multilingual = TFAutoModel.from_pretrained('bert-base-multilingual-cased')"
      ],
      "metadata": {
        "colab": {
          "base_uri": "https://localhost:8080/"
        },
        "id": "w8ablhrq36fE",
        "outputId": "8a1ee0e4-3712-4c8e-d338-de0527c73339"
      },
      "execution_count": null,
      "outputs": [
        {
          "output_type": "stream",
          "name": "stderr",
          "text": [
            "Some layers from the model checkpoint at bert-base-multilingual-cased were not used when initializing TFBertModel: ['dropout_37', 'classifier']\n",
            "- This IS expected if you are initializing TFBertModel from the checkpoint of a model trained on another task or with another architecture (e.g. initializing a BertForSequenceClassification model from a BertForPreTraining model).\n",
            "- This IS NOT expected if you are initializing TFBertModel from the checkpoint of a model that you expect to be exactly identical (initializing a BertForSequenceClassification model from a BertForSequenceClassification model).\n",
            "All the layers of TFBertModel were initialized from the model checkpoint at bert-base-multilingual-cased.\n",
            "If your task is similar to the task the model of the checkpoint was trained on, you can already use TFBertModel for predictions without further training.\n"
          ]
        }
      ]
    },
    {
      "cell_type": "code",
      "source": [
        "# create model architecture\n",
        "n_classes = len(train_df2['label'].unique()) # Get the number of unique labels\n",
        "\n",
        "# Input layers\n",
        "input_ids = tf.keras.layers.Input(shape=(SEQ_LEN,), dtype=np.int32, name='input_ids' )\n",
        "mask = tf.keras.layers.Input(shape=(SEQ_LEN,), dtype=np.int32, name = 'attention_mask')\n",
        "\n",
        "# bert embeddings\n",
        "embeddings = bert_multilingual(input_ids=input_ids, attention_mask=mask)[0]\n",
        "cls_token = embeddings[:,0,:]\n",
        "\n",
        "# keras layers\n",
        "#x = tf.keras.layers.GlobalMaxPool1D()(embeddings)\n",
        "x = tf.keras.layers.BatchNormalization()(cls_token)\n",
        "x = tf.keras.layers.Dense(128, activation='relu')(x)\n",
        "x = tf.keras.layers.Dropout(0.2)(x)\n",
        "x = tf.keras.layers.Dense(32, activation='relu')(x)\n",
        "\n",
        "# output layer - changed to n_classes units and softmax activation\n",
        "y = tf.keras.layers.Dense(n_classes, activation='softmax')(x)\n",
        "\n",
        "# create the model\n",
        "model = tf.keras.Model(inputs=[input_ids, mask], outputs=y)"
      ],
      "metadata": {
        "colab": {
          "base_uri": "https://localhost:8080/",
          "height": 842
        },
        "id": "LCs1wtrD4BFD",
        "outputId": "b02850ab-86c1-49ca-c840-c9328ea93061"
      },
      "execution_count": null,
      "outputs": [
        {
          "output_type": "error",
          "ename": "ValueError",
          "evalue": "Exception encountered when calling layer 'tf_bert_model_3' (type TFBertModel).\n\nData of type <class 'keras.src.backend.common.keras_tensor.KerasTensor'> is not allowed only (<class 'tensorflow.python.framework.tensor.Tensor'>, <class 'bool'>, <class 'int'>, <class 'transformers.utils.generic.ModelOutput'>, <class 'tuple'>, <class 'list'>, <class 'dict'>, <class 'numpy.ndarray'>) is accepted for input_ids.\n\nCall arguments received by layer 'tf_bert_model_3' (type TFBertModel):\n  • input_ids={'input_ids': '<KerasTensor shape=(None, 100), dtype=int32, sparse=False, ragged=False, name=input_ids>', 'attention_mask': '<KerasTensor shape=(None, 100), dtype=int32, sparse=False, ragged=False, name=attention_mask>'}\n  • attention_mask=None\n  • token_type_ids=None\n  • position_ids=None\n  • head_mask=None\n  • inputs_embeds=None\n  • encoder_hidden_states=None\n  • encoder_attention_mask=None\n  • past_key_values=None\n  • use_cache=None\n  • output_attentions=None\n  • output_hidden_states=None\n  • return_dict=None\n  • training=False",
          "traceback": [
            "\u001b[0;31m---------------------------------------------------------------------------\u001b[0m",
            "\u001b[0;31mValueError\u001b[0m                                Traceback (most recent call last)",
            "\u001b[0;32m/tmp/ipython-input-703782590.py\u001b[0m in \u001b[0;36m<cell line: 0>\u001b[0;34m()\u001b[0m\n\u001b[1;32m      7\u001b[0m \u001b[0;34m\u001b[0m\u001b[0m\n\u001b[1;32m      8\u001b[0m \u001b[0;31m# bert embeddings\u001b[0m\u001b[0;34m\u001b[0m\u001b[0;34m\u001b[0m\u001b[0m\n\u001b[0;32m----> 9\u001b[0;31m embeddings = bert_multilingual(\n\u001b[0m\u001b[1;32m     10\u001b[0m     \u001b[0;34m{\u001b[0m\u001b[0;34m'input_ids'\u001b[0m\u001b[0;34m:\u001b[0m \u001b[0minput_ids\u001b[0m\u001b[0;34m,\u001b[0m \u001b[0;34m'attention_mask'\u001b[0m\u001b[0;34m:\u001b[0m \u001b[0mmask\u001b[0m\u001b[0;34m}\u001b[0m\u001b[0;34m\u001b[0m\u001b[0;34m\u001b[0m\u001b[0m\n\u001b[1;32m     11\u001b[0m )[0]\n",
            "\u001b[0;32m/usr/local/lib/python3.12/dist-packages/tf_keras/src/utils/traceback_utils.py\u001b[0m in \u001b[0;36merror_handler\u001b[0;34m(*args, **kwargs)\u001b[0m\n\u001b[1;32m     68\u001b[0m             \u001b[0;31m# To get the full stack trace, call:\u001b[0m\u001b[0;34m\u001b[0m\u001b[0;34m\u001b[0m\u001b[0m\n\u001b[1;32m     69\u001b[0m             \u001b[0;31m# `tf.debugging.disable_traceback_filtering()`\u001b[0m\u001b[0;34m\u001b[0m\u001b[0;34m\u001b[0m\u001b[0m\n\u001b[0;32m---> 70\u001b[0;31m             \u001b[0;32mraise\u001b[0m \u001b[0me\u001b[0m\u001b[0;34m.\u001b[0m\u001b[0mwith_traceback\u001b[0m\u001b[0;34m(\u001b[0m\u001b[0mfiltered_tb\u001b[0m\u001b[0;34m)\u001b[0m \u001b[0;32mfrom\u001b[0m \u001b[0;32mNone\u001b[0m\u001b[0;34m\u001b[0m\u001b[0;34m\u001b[0m\u001b[0m\n\u001b[0m\u001b[1;32m     71\u001b[0m         \u001b[0;32mfinally\u001b[0m\u001b[0;34m:\u001b[0m\u001b[0;34m\u001b[0m\u001b[0;34m\u001b[0m\u001b[0m\n\u001b[1;32m     72\u001b[0m             \u001b[0;32mdel\u001b[0m \u001b[0mfiltered_tb\u001b[0m\u001b[0;34m\u001b[0m\u001b[0;34m\u001b[0m\u001b[0m\n",
            "\u001b[0;32m/usr/local/lib/python3.12/dist-packages/transformers/modeling_tf_utils.py\u001b[0m in \u001b[0;36mrun_call_with_unpacked_inputs\u001b[0;34m(self, *args, **kwargs)\u001b[0m\n\u001b[1;32m    434\u001b[0m             \u001b[0mconfig\u001b[0m \u001b[0;34m=\u001b[0m \u001b[0mself\u001b[0m\u001b[0;34m.\u001b[0m\u001b[0mconfig\u001b[0m\u001b[0;34m\u001b[0m\u001b[0;34m\u001b[0m\u001b[0m\n\u001b[1;32m    435\u001b[0m \u001b[0;34m\u001b[0m\u001b[0m\n\u001b[0;32m--> 436\u001b[0;31m         \u001b[0munpacked_inputs\u001b[0m \u001b[0;34m=\u001b[0m \u001b[0minput_processing\u001b[0m\u001b[0;34m(\u001b[0m\u001b[0mfunc\u001b[0m\u001b[0;34m,\u001b[0m \u001b[0mconfig\u001b[0m\u001b[0;34m,\u001b[0m \u001b[0;34m**\u001b[0m\u001b[0mfn_args_and_kwargs\u001b[0m\u001b[0;34m)\u001b[0m\u001b[0;34m\u001b[0m\u001b[0;34m\u001b[0m\u001b[0m\n\u001b[0m\u001b[1;32m    437\u001b[0m         \u001b[0;32mreturn\u001b[0m \u001b[0mfunc\u001b[0m\u001b[0;34m(\u001b[0m\u001b[0mself\u001b[0m\u001b[0;34m,\u001b[0m \u001b[0;34m**\u001b[0m\u001b[0munpacked_inputs\u001b[0m\u001b[0;34m)\u001b[0m\u001b[0;34m\u001b[0m\u001b[0;34m\u001b[0m\u001b[0m\n\u001b[1;32m    438\u001b[0m \u001b[0;34m\u001b[0m\u001b[0m\n",
            "\u001b[0;32m/usr/local/lib/python3.12/dist-packages/transformers/modeling_tf_utils.py\u001b[0m in \u001b[0;36minput_processing\u001b[0;34m(func, config, **kwargs)\u001b[0m\n\u001b[1;32m    559\u001b[0m                 \u001b[0;32mcontinue\u001b[0m\u001b[0;34m\u001b[0m\u001b[0;34m\u001b[0m\u001b[0m\n\u001b[1;32m    560\u001b[0m             \u001b[0;32melse\u001b[0m\u001b[0;34m:\u001b[0m\u001b[0;34m\u001b[0m\u001b[0;34m\u001b[0m\u001b[0m\n\u001b[0;32m--> 561\u001b[0;31m                 \u001b[0;32mraise\u001b[0m \u001b[0mValueError\u001b[0m\u001b[0;34m(\u001b[0m\u001b[0;34mf\"Data of type {type(v)} is not allowed only {allowed_types} is accepted for {k}.\"\u001b[0m\u001b[0;34m)\u001b[0m\u001b[0;34m\u001b[0m\u001b[0;34m\u001b[0m\u001b[0m\n\u001b[0m\u001b[1;32m    562\u001b[0m     \u001b[0;32melse\u001b[0m\u001b[0;34m:\u001b[0m\u001b[0;34m\u001b[0m\u001b[0;34m\u001b[0m\u001b[0m\n\u001b[1;32m    563\u001b[0m         \u001b[0;32mif\u001b[0m \u001b[0mtf\u001b[0m\u001b[0;34m.\u001b[0m\u001b[0mis_tensor\u001b[0m\u001b[0;34m(\u001b[0m\u001b[0mmain_input\u001b[0m\u001b[0;34m)\u001b[0m \u001b[0;32mor\u001b[0m \u001b[0mmain_input\u001b[0m \u001b[0;32mis\u001b[0m \u001b[0;32mNone\u001b[0m\u001b[0;34m:\u001b[0m\u001b[0;34m\u001b[0m\u001b[0;34m\u001b[0m\u001b[0m\n",
            "\u001b[0;31mValueError\u001b[0m: Exception encountered when calling layer 'tf_bert_model_3' (type TFBertModel).\n\nData of type <class 'keras.src.backend.common.keras_tensor.KerasTensor'> is not allowed only (<class 'tensorflow.python.framework.tensor.Tensor'>, <class 'bool'>, <class 'int'>, <class 'transformers.utils.generic.ModelOutput'>, <class 'tuple'>, <class 'list'>, <class 'dict'>, <class 'numpy.ndarray'>) is accepted for input_ids.\n\nCall arguments received by layer 'tf_bert_model_3' (type TFBertModel):\n  • input_ids={'input_ids': '<KerasTensor shape=(None, 100), dtype=int32, sparse=False, ragged=False, name=input_ids>', 'attention_mask': '<KerasTensor shape=(None, 100), dtype=int32, sparse=False, ragged=False, name=attention_mask>'}\n  • attention_mask=None\n  • token_type_ids=None\n  • position_ids=None\n  • head_mask=None\n  • inputs_embeds=None\n  • encoder_hidden_states=None\n  • encoder_attention_mask=None\n  • past_key_values=None\n  • use_cache=None\n  • output_attentions=None\n  • output_hidden_states=None\n  • return_dict=None\n  • training=False"
          ]
        }
      ]
    },
    {
      "cell_type": "markdown",
      "source": [
        "#EKSPERIMEN 3"
      ],
      "metadata": {
        "id": "_aGPlUAH6rno"
      }
    },
    {
      "cell_type": "code",
      "source": [
        "import pandas as pd\n",
        "import numpy as np\n",
        "import tensorflow as tf\n",
        "from transformers import BertTokenizer, TFBertForSequenceClassification\n",
        "from sklearn.model_selection import train_test_split"
      ],
      "metadata": {
        "id": "pR_Nb1BH4Iq9"
      },
      "execution_count": 1,
      "outputs": []
    },
    {
      "cell_type": "code",
      "source": [
        "train_df = pd.read_csv('train.csv')\n",
        "test_df = pd.read_csv('test.csv')"
      ],
      "metadata": {
        "id": "cPUMBaPzqTXx"
      },
      "execution_count": 10,
      "outputs": []
    },
    {
      "cell_type": "code",
      "source": [
        "def preprocess(text):\n",
        "    new_text = []\n",
        "    for t in str(text).split(\" \"):\n",
        "        t = '' if t.startswith('@') and len(t) > 1 else t\n",
        "        t = '' if t.startswith('http') else t\n",
        "        t = t.replace(\"#\",\"\")\n",
        "        new_text.append(t.lower())\n",
        "    return \" \".join(new_text).strip().replace(\"  \", \" \")"
      ],
      "metadata": {
        "id": "rHjlrgx1qeyw"
      },
      "execution_count": 11,
      "outputs": []
    },
    {
      "cell_type": "code",
      "source": [
        "train_df['text'] = train_df['text'].apply(preprocess)\n",
        "test_df['text'] = test_df['text'].apply(preprocess)"
      ],
      "metadata": {
        "id": "8ycMMpRfqjFn"
      },
      "execution_count": 12,
      "outputs": []
    },
    {
      "cell_type": "code",
      "source": [
        "label_order = ['SADNESS', 'ANGER', 'SUPPORT', 'HOPE', 'DISAPPOINTMENT']\n",
        "label_map = {label: i for i, label in enumerate(label_order)}\n",
        "id_to_label = {i: label for label, i in label_map.items()}"
      ],
      "metadata": {
        "id": "Z7OOG7ZqqlSt"
      },
      "execution_count": 13,
      "outputs": []
    },
    {
      "cell_type": "code",
      "source": [
        "train_df['label_encoded'] = train_df['label'].map(label_map)"
      ],
      "metadata": {
        "id": "eqST472qqtWx"
      },
      "execution_count": 14,
      "outputs": []
    },
    {
      "cell_type": "code",
      "source": [
        "SEQ_LEN = 105"
      ],
      "metadata": {
        "id": "J1QWOch0qxBf"
      },
      "execution_count": 15,
      "outputs": []
    },
    {
      "cell_type": "code",
      "source": [
        "tokenizer = BertTokenizer.from_pretrained('bert-base-uncased', do_lower_case=True)"
      ],
      "metadata": {
        "id": "6d3tBS--qzGh"
      },
      "execution_count": 16,
      "outputs": []
    },
    {
      "cell_type": "code",
      "source": [
        "train_encoded_inputs = tokenizer(train_df['text'].tolist(),\n",
        "                                 add_special_tokens = True,\n",
        "                                 padding='max_length',\n",
        "                                 truncation=True,\n",
        "                                 max_length=SEQ_LEN,\n",
        "                                 return_token_type_ids=False,\n",
        "                                 return_tensors = 'tf')"
      ],
      "metadata": {
        "id": "GHWTuTm6q3k7"
      },
      "execution_count": 17,
      "outputs": []
    },
    {
      "cell_type": "code",
      "source": [
        "train_dataset = tf.data.Dataset.from_tensor_slices((train_encoded_inputs, train_df['label_encoded'].values))"
      ],
      "metadata": {
        "id": "53IIomzfrEZf"
      },
      "execution_count": 18,
      "outputs": []
    },
    {
      "cell_type": "code",
      "source": [
        "def map_bert(inputs, labels):\n",
        "  inputs = {'input_ids': inputs['input_ids'],\n",
        "            'attention_mask': inputs['attention_mask']}\n",
        "  return inputs, labels\n",
        "\n",
        "train_dataset = train_dataset.map(map_bert)"
      ],
      "metadata": {
        "id": "ZBQHfrMpsDMS"
      },
      "execution_count": 19,
      "outputs": []
    },
    {
      "cell_type": "code",
      "source": [
        "DS_LEN = len(train_dataset)\n",
        "SPLIT = 0.8\n",
        "train_ds = train_dataset.take(round(DS_LEN * SPLIT)).batch(64)\n",
        "val_ds = train_dataset.skip(round(DS_LEN * SPLIT)).batch(64)"
      ],
      "metadata": {
        "id": "NKeuE7UAsGC3"
      },
      "execution_count": 20,
      "outputs": []
    },
    {
      "cell_type": "code",
      "source": [
        "n_classes = len(label_order) # Use the defined order for number of classes\n",
        "model = TFBertForSequenceClassification.from_pretrained('bert-base-uncased', num_labels=n_classes)"
      ],
      "metadata": {
        "colab": {
          "base_uri": "https://localhost:8080/"
        },
        "id": "KTS5dVBSsJqo",
        "outputId": "287beb95-feb8-42b7-e1a1-fcffe22a499c"
      },
      "execution_count": 22,
      "outputs": [
        {
          "output_type": "stream",
          "name": "stderr",
          "text": [
            "TensorFlow and JAX classes are deprecated and will be removed in Transformers v5. We recommend migrating to PyTorch classes or pinning your version of Transformers.\n",
            "All model checkpoint layers were used when initializing TFBertForSequenceClassification.\n",
            "\n",
            "Some layers of TFBertForSequenceClassification were not initialized from the model checkpoint at bert-base-uncased and are newly initialized: ['classifier']\n",
            "You should probably TRAIN this model on a down-stream task to be able to use it for predictions and inference.\n"
          ]
        }
      ]
    },
    {
      "cell_type": "code",
      "source": [
        "optimizer = tf.keras.optimizers.Adam(learning_rate=3e-5) # Using Adam optimizer\n",
        "loss = tf.keras.losses.SparseCategoricalCrossentropy(from_logits=True)\n",
        "metric = tf.keras.metrics.SparseCategoricalAccuracy('accuracy')\n",
        "\n",
        "model.compile(optimizer=optimizer, loss=loss, metrics=[metric])"
      ],
      "metadata": {
        "id": "6PyxxPIlsMXQ"
      },
      "execution_count": 23,
      "outputs": []
    },
    {
      "cell_type": "code",
      "source": [
        "print(\"Starting model training...\")\n",
        "history = model.fit(\n",
        "    train_ds,\n",
        "    validation_data=val_ds,\n",
        "    epochs=20,\n",
        "    callbacks=[tf.keras.callbacks.EarlyStopping(patience=3, monitor='val_loss')] # Added early stopping\n",
        ")\n",
        "print(\"Training finished.\")"
      ],
      "metadata": {
        "colab": {
          "base_uri": "https://localhost:8080/"
        },
        "id": "7CxIlxAzsWkS",
        "outputId": "7ac0a8cc-0937-4961-b9ce-f68ab7bf3b57"
      },
      "execution_count": 24,
      "outputs": [
        {
          "output_type": "stream",
          "name": "stdout",
          "text": [
            "Starting model training...\n",
            "Epoch 1/20\n",
            "64/64 [==============================] - 148s 1s/step - loss: 1.3902 - accuracy: 0.4073 - val_loss: 1.1984 - val_accuracy: 0.5388\n",
            "Epoch 2/20\n",
            "64/64 [==============================] - 87s 1s/step - loss: 1.0873 - accuracy: 0.5853 - val_loss: 1.0476 - val_accuracy: 0.6037\n",
            "Epoch 3/20\n",
            "64/64 [==============================] - 88s 1s/step - loss: 0.8733 - accuracy: 0.6731 - val_loss: 1.0778 - val_accuracy: 0.6254\n",
            "Epoch 4/20\n",
            "64/64 [==============================] - 88s 1s/step - loss: 0.7113 - accuracy: 0.7526 - val_loss: 1.0665 - val_accuracy: 0.6411\n",
            "Epoch 5/20\n",
            "64/64 [==============================] - 88s 1s/step - loss: 0.5765 - accuracy: 0.8013 - val_loss: 1.1202 - val_accuracy: 0.6411\n",
            "Training finished.\n"
          ]
        }
      ]
    },
    {
      "cell_type": "code",
      "source": [
        "from sklearn.metrics import f1_score\n",
        "import numpy as np\n",
        "\n",
        "# Get true labels and predictions for the validation dataset\n",
        "y_true = []\n",
        "y_pred = []\n",
        "\n",
        "for inputs, labels in val_ds:\n",
        "    # Get predictions from the model\n",
        "    logits = model.predict(inputs)\n",
        "    predictions = np.argmax(logits.logits, axis=1) # Access logits attribute\n",
        "\n",
        "    # Append true labels and predictions\n",
        "    y_true.extend(labels.numpy())\n",
        "    y_pred.extend(predictions)\n",
        "\n",
        "# Calculate macro F1 score\n",
        "f1 = f1_score(y_true, y_pred, average='macro')\n",
        "print(\"Macro F1 Score on Validation Data:\", f1)"
      ],
      "metadata": {
        "colab": {
          "base_uri": "https://localhost:8080/"
        },
        "id": "ug0_eF9Xsdg8",
        "outputId": "590b978c-bed1-4043-f506-5fb292f3fac6"
      },
      "execution_count": 25,
      "outputs": [
        {
          "output_type": "stream",
          "name": "stdout",
          "text": [
            "2/2 [==============================] - 2s 288ms/step\n",
            "2/2 [==============================] - 0s 228ms/step\n",
            "2/2 [==============================] - 0s 212ms/step\n",
            "2/2 [==============================] - 0s 184ms/step\n",
            "2/2 [==============================] - 0s 218ms/step\n",
            "2/2 [==============================] - 0s 206ms/step\n",
            "2/2 [==============================] - 0s 217ms/step\n",
            "2/2 [==============================] - 0s 217ms/step\n",
            "2/2 [==============================] - 0s 220ms/step\n",
            "2/2 [==============================] - 0s 221ms/step\n",
            "2/2 [==============================] - 0s 204ms/step\n",
            "2/2 [==============================] - 0s 219ms/step\n",
            "2/2 [==============================] - 0s 220ms/step\n",
            "2/2 [==============================] - 0s 222ms/step\n",
            "2/2 [==============================] - 0s 218ms/step\n",
            "2/2 [==============================] - 4s 190ms/step\n",
            "Macro F1 Score on Validation Data: 0.543146058246647\n"
          ]
        }
      ]
    },
    {
      "cell_type": "code",
      "source": [
        "import matplotlib.pyplot as plt\n",
        "# plot the performance curve\n",
        "epochs = history.epoch\n",
        "plt.figure(figsize=(15, 6))\n",
        "\n",
        "# Accuracy\n",
        "plt.subplot(1,2, 1)\n",
        "plt.plot(epochs, history.history['accuracy'], label=\"Train\")\n",
        "plt.plot(epochs, history.history['val_accuracy'], label = \"Val\")\n",
        "plt.legend()\n",
        "plt.title(\"Accuracy\")\n",
        "\n",
        "# loss\n",
        "plt.subplot(1,2, 2)\n",
        "plt.plot(epochs, history.history['loss'], label=\"Train\")\n",
        "plt.plot(epochs, history.history['val_loss'], label = \"Val\")\n",
        "plt.legend()\n",
        "plt.title(\"Loss\")\n",
        "\n",
        "plt.show()"
      ],
      "metadata": {
        "colab": {
          "base_uri": "https://localhost:8080/",
          "height": 406
        },
        "id": "iXsPEow8vSoP",
        "outputId": "6019a2f9-8ffc-4cba-93e9-142b21596ffc"
      },
      "execution_count": 28,
      "outputs": [
        {
          "output_type": "display_data",
          "data": {
            "text/plain": [
              "<Figure size 1500x600 with 2 Axes>"
            ],
            "image/png": "[encoded data removed]"
          },
          "metadata": {}
        }
      ]
    },
    {
      "cell_type": "code",
      "source": [
        "from sklearn.metrics import classification_report\n",
        "\n",
        "# Generate classification report\n",
        "report = classification_report(y_true, y_pred, target_names=label_order)\n",
        "print(\"Classification Report on Validation Data:\")\n",
        "print(report)"
      ],
      "metadata": {
        "colab": {
          "base_uri": "https://localhost:8080/"
        },
        "id": "HDI-xQlny06O",
        "outputId": "db537584-bc2f-4674-a741-57ca86ce13cc"
      },
      "execution_count": 29,
      "outputs": [
        {
          "output_type": "stream",
          "name": "stdout",
          "text": [
            "Classification Report on Validation Data:\n",
            "                precision    recall  f1-score   support\n",
            "\n",
            "       SADNESS       0.54      0.68      0.61       259\n",
            "         ANGER       0.67      0.68      0.68       266\n",
            "       SUPPORT       0.78      0.64      0.70       226\n",
            "          HOPE       0.64      0.68      0.66       214\n",
            "DISAPPOINTMENT       0.50      0.04      0.07        52\n",
            "\n",
            "      accuracy                           0.64      1017\n",
            "     macro avg       0.63      0.55      0.54      1017\n",
            "  weighted avg       0.65      0.64      0.63      1017\n",
            "\n"
          ]
        }
      ]
    },
    {
      "cell_type": "code",
      "source": [
        "# check the distribution of labels in the training data\n",
        "print(\"Label distribution in training data:\")\n",
        "print(train_df['label'].value_counts())"
      ],
      "metadata": {
        "colab": {
          "base_uri": "https://localhost:8080/"
        },
        "id": "lya4IftJz5uP",
        "outputId": "505548ac-7824-427c-bee7-6ced9c78f55c"
      },
      "execution_count": 30,
      "outputs": [
        {
          "output_type": "stream",
          "name": "stdout",
          "text": [
            "Label distribution in training data:\n",
            "label\n",
            "SADNESS           1410\n",
            "ANGER             1370\n",
            "SUPPORT           1062\n",
            "HOPE               994\n",
            "DISAPPOINTMENT     247\n",
            "Name: count, dtype: int64\n"
          ]
        }
      ]
    },
    {
      "cell_type": "markdown",
      "source": [
        "- Model mempelajari dan prediksi setiap label cukup bagus dimana diatas 0.50 kecuali untuk label DISAPPOINTMENT dimana sedikit nya data yang terkategori DISAPPOINTMENT."
      ],
      "metadata": {
        "id": "bF0BYxm7zsqp"
      }
    },
    {
      "cell_type": "markdown",
      "source": [
        "# KESIMPULAN"
      ],
      "metadata": {
        "id": "e65husi7xGeP"
      }
    },
    {
      "cell_type": "markdown",
      "source": [
        "- TFBertForSequenceClassification model yang sudah memiliki lapisan klasifikasi di atasnya.\n",
        "- ForSequenceClassification : model ini secara spesifik disesuaikan untuk tugas klasifikasi sekuens (seperti teks atau kalimat).\n",
        "- TFAutoModel.from_pretrained() masih membutuhkan arsitektur manual karena tanpa lapisan klasifikasi."
      ],
      "metadata": {
        "id": "JPr1yZCQxIdS"
      }
    },
    {
      "cell_type": "markdown",
      "source": [
        "PERCOBAAN UNTUK MERATAKAN WEIGHT TIAP LABEL"
      ],
      "metadata": {
        "id": "-2s_blOe5Ev6"
      }
    },
    {
      "cell_type": "code",
      "source": [
        "from sklearn.utils import class_weight\n",
        "import numpy as np\n",
        "\n",
        "# Calculate class weights\n",
        "class_weights = class_weight.compute_class_weight(\n",
        "    'balanced',\n",
        "    classes=np.unique(train_df['label_encoded']),\n",
        "    y=train_df['label_encoded']\n",
        ")\n",
        "\n",
        "# Convert class weights to a dictionary\n",
        "class_weights_dict = dict(enumerate(class_weights))\n",
        "\n",
        "print(\"Class weights:\", class_weights_dict)\n",
        "\n",
        "# Recompile the model with class weights\n",
        "optimizer = tf.keras.optimizers.Adam(learning_rate=3e-5) # Using Adam optimizer\n",
        "loss = tf.keras.losses.SparseCategoricalCrossentropy(from_logits=True)\n",
        "metric = tf.keras.metrics.SparseCategoricalAccuracy('accuracy')\n",
        "\n",
        "model.compile(optimizer=optimizer, loss=loss, metrics=[metric])\n",
        "\n",
        "# Train the model with class weights\n",
        "print(\"Starting model training with class weights...\")\n",
        "history = model.fit(\n",
        "    train_ds,\n",
        "    validation_data=val_ds,\n",
        "    epochs=20,\n",
        "    callbacks=[tf.keras.callbacks.EarlyStopping(patience=3, monitor='val_loss')],\n",
        "    class_weight=class_weights_dict # Add class weights here\n",
        ")\n",
        "print(\"Training finished.\")"
      ],
      "metadata": {
        "colab": {
          "base_uri": "https://localhost:8080/"
        },
        "id": "tFWaFb5e0YNB",
        "outputId": "7d88fb7b-fd46-4d00-e5ce-f5df75a419e8"
      },
      "execution_count": 31,
      "outputs": [
        {
          "output_type": "stream",
          "name": "stdout",
          "text": [
            "Class weights: {0: np.float64(0.7209929078014184), 1: np.float64(0.742043795620438), 2: np.float64(0.9572504708097929), 3: np.float64(1.0227364185110663), 4: np.float64(4.11578947368421)}\n",
            "Starting model training with class weights...\n",
            "Epoch 1/20\n",
            "64/64 [==============================] - 140s 1s/step - loss: 0.5900 - accuracy: 0.7978 - val_loss: 1.3171 - val_accuracy: 0.5506\n",
            "Epoch 2/20\n",
            "64/64 [==============================] - 88s 1s/step - loss: 0.4311 - accuracy: 0.8468 - val_loss: 1.3998 - val_accuracy: 0.5683\n",
            "Epoch 3/20\n",
            "64/64 [==============================] - 88s 1s/step - loss: 0.2839 - accuracy: 0.8982 - val_loss: 1.5887 - val_accuracy: 0.5595\n",
            "Epoch 4/20\n",
            "64/64 [==============================] - 88s 1s/step - loss: 0.2444 - accuracy: 0.9070 - val_loss: 1.5465 - val_accuracy: 0.5801\n",
            "Training finished.\n"
          ]
        }
      ]
    },
    {
      "cell_type": "code",
      "source": [
        "from sklearn.metrics import f1_score\n",
        "import numpy as np\n",
        "\n",
        "# Get true labels and predictions for the validation dataset\n",
        "y_true = []\n",
        "y_pred = []\n",
        "\n",
        "for inputs, labels in val_ds:\n",
        "    # Get predictions from the model\n",
        "    logits = model.predict(inputs)\n",
        "    predictions = np.argmax(logits.logits, axis=1) # Access logits attribute\n",
        "\n",
        "    # Append true labels and predictions\n",
        "    y_true.extend(labels.numpy())\n",
        "    y_pred.extend(predictions)\n",
        "\n",
        "# Calculate macro F1 score\n",
        "f1 = f1_score(y_true, y_pred, average='macro')\n",
        "print(\"Macro F1 Score on Validation Data (with class weights):\", f1)"
      ],
      "metadata": {
        "colab": {
          "base_uri": "https://localhost:8080/"
        },
        "id": "PohNh6NG3FGn",
        "outputId": "7229236f-9009-4da3-cf5c-936ead56d276"
      },
      "execution_count": 32,
      "outputs": [
        {
          "output_type": "stream",
          "name": "stdout",
          "text": [
            "2/2 [==============================] - 2s 266ms/step\n",
            "2/2 [==============================] - 0s 215ms/step\n",
            "2/2 [==============================] - 0s 303ms/step\n",
            "2/2 [==============================] - 0s 215ms/step\n",
            "2/2 [==============================] - 0s 218ms/step\n",
            "2/2 [==============================] - 0s 218ms/step\n",
            "2/2 [==============================] - 0s 218ms/step\n",
            "2/2 [==============================] - 0s 229ms/step\n",
            "2/2 [==============================] - 0s 222ms/step\n",
            "2/2 [==============================] - 0s 223ms/step\n",
            "2/2 [==============================] - 0s 146ms/step\n",
            "2/2 [==============================] - 0s 217ms/step\n",
            "2/2 [==============================] - 0s 221ms/step\n",
            "2/2 [==============================] - 0s 222ms/step\n",
            "2/2 [==============================] - 0s 224ms/step\n",
            "2/2 [==============================] - 4s 195ms/step\n",
            "Macro F1 Score on Validation Data (with class weights): 0.5241364600868146\n"
          ]
        }
      ]
    }
  ]
}